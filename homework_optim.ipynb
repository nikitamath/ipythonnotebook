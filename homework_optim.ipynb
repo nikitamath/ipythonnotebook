{
 "cells": [
  {
   "cell_type": "markdown",
   "metadata": {},
   "source": [
    "##Домашняя работа по методам оптимизации, 399 группа.\n",
    "###Медведева Анна."
   ]
  },
  {
   "cell_type": "code",
   "execution_count": 2,
   "metadata": {
    "collapsed": true
   },
   "outputs": [],
   "source": [
    "from scipy.optimize import linprog\n",
    "\n",
    "import numpy as np\n",
    "import pandas as pd\n",
    "import math as math"
   ]
  },
  {
   "cell_type": "markdown",
   "metadata": {},
   "source": [
    "<h5>Задача 1.</h5>\n",
    "$$6 x_1 + x_2 + 8x_3 \\longrightarrow \\max$$\n",
    "$$3 x_2 + 3 x_3 \\leqslant 9$$\n",
    "$$8 x_1 + 8 x_2 + 7 x_3 \\leqslant 4$$\n",
    "\n",
    "Приведем задачу к канонической: \n",
    "$$\\langle \\vec c, \\vec x\\rangle \\rightarrow \\max,$$\n",
    "$$A \\vec x \\leqslant bound,$$\n",
    "$$ x \\geqslant \\vec 0.$$"
   ]
  },
  {
   "cell_type": "code",
   "execution_count": 4,
   "metadata": {
    "collapsed": false
   },
   "outputs": [],
   "source": [
    "A = [[0,3,3],[8,8,7]]\n",
    "bound = [9,4]\n",
    "c = [-6,-1,-8]\n",
    "bnds = [(0, None),(0,None),(0,None)]"
   ]
  },
  {
   "cell_type": "code",
   "execution_count": 5,
   "metadata": {
    "collapsed": false
   },
   "outputs": [
    {
     "name": "stdout",
     "output_type": "stream",
     "text": [
      "  status: 0\n",
      "   slack: array([ 7.28571429,  0.        ])\n",
      " success: True\n",
      "     fun: -4.5714285714285712\n",
      "       x: array([ 0.        ,  0.        ,  0.57142857])\n",
      " message: 'Optimization terminated successfully.'\n",
      "     nit: 1\n"
     ]
    }
   ],
   "source": [
    "res = linprog(c, A_ub=A, b_ub=bound, bounds=bnds)\n",
    "print(res)"
   ]
  },
  {
   "cell_type": "markdown",
   "metadata": {},
   "source": [
    "Ответ:"
   ]
  },
  {
   "cell_type": "code",
   "execution_count": 14,
   "metadata": {
    "collapsed": false
   },
   "outputs": [
    {
     "name": "stdout",
     "output_type": "stream",
     "text": [
      "(array([ 0.        ,  0.        ,  0.57142857]), 4.5714285714285712)\n"
     ]
    }
   ],
   "source": [
    "print(res.x, -res.fun)"
   ]
  },
  {
   "cell_type": "markdown",
   "metadata": {},
   "source": [
    "<h5>Задача 2.</h5>"
   ]
  },
  {
   "cell_type": "markdown",
   "metadata": {},
   "source": [
    "Найти субдифференциал функции:\n",
    "$$ f = \\max\\{g_1, g_2\\} = \\max\\{|9x + 9y|,|2x^2 + \\frac{xy}{4} + y^2|\\}.$$"
   ]
  },
  {
   "cell_type": "markdown",
   "metadata": {},
   "source": [
    "Дифференциалы функций $g_1, g_2:$\n",
    "$dg_1 = 9dx + 9dy, $ $dg_2 = (4x + y/4)dx + (2y + x/4)dy.$\n",
    "\n",
    "Пусть точка $(x_0, y_0)$ удовлетворяет равенству:\n",
    "$$ 9x + 9y = 2x^2 + \\frac{xy}{4} + y^2,$$\n",
    "и $g_1 > 0.$ Тогда cубдифференциал $f$ в этой точке имеет вид имеет вид:\n",
    "$$df(x_0, y_0) = \\{(9(1-t) + (4x + y/4)t)dx + (9(1-t) + (2y + x/4)t)dy\\ |\\ 0 \\leqslant t \\leqslant 1\\}.$$\n",
    "Точки, где $9x + 9y < 0$ и $-9x - 9y = 2x^2 + \\frac{xy}{4} + y^2,$ симметричны вышерассмотренным относительно центра координат.\n",
    "В точка, где $g_1 \\not = g_2$ субдифференциал равен дифференциалу."
   ]
  },
  {
   "cell_type": "markdown",
   "metadata": {},
   "source": [
    "Ответ:\n",
    "$$\n",
    "    df =\n",
    "    \\begin{cases}\n",
    "        9 sgn(x + y)(dx + dy), & g_1 > g_2 \\\\\n",
    "        9 (4x + y/4)dx + (2y + x/8)dy, & g_1<g_2 \\\\\n",
    "        (9 \\cdot sgn(x + y)(1-t) + (4x + y/4)t)dx + (9 \\cdot sgn(x + y)(1-t) + (2y + x/4)t)dy\\ |\\ 0 \\leqslant t \\leqslant 1\\ , & g_1 = g_2.\n",
    "    \\end{cases}\n",
    "$$"
   ]
  },
  {
   "cell_type": "markdown",
   "metadata": {},
   "source": [
    "<h5>Задача 3."
   ]
  },
  {
   "cell_type": "markdown",
   "metadata": {},
   "source": [
    "$$ 9x + 8y \\rightarrow min$$\n",
    "$$ 9x^{2} - \\frac{xy}{4} + 8y^{2} \\leqslant 4$$"
   ]
  },
  {
   "cell_type": "markdown",
   "metadata": {},
   "source": [
    "Функция Лагранжа имеет вид:\n",
    "$$ L(x,y,\\lambda) = 9x + 8y + \\lambda(9x^{2} - \\frac{xy}{4} + 8y^{2} -4).$$"
   ]
  },
  {
   "cell_type": "markdown",
   "metadata": {},
   "source": [
    "Составим систему, приравняв производные к нулю:\n",
    "$$ L'_{x} = 9 + 18\\lambda x -\\lambda y/4 = 0,$$\n",
    "$$ L'_{y} = 8 - x\\lambda/4 + 16y\\lambda = 0.$$"
   ]
  },
  {
   "cell_type": "markdown",
   "metadata": {},
   "source": [
    "Получаем:\n",
    "$$ y = \\frac{4(9+18x\\lambda)}{\\lambda} = \\frac{36}{\\lambda} + 72x,$$\n",
    "$$ x = -\\frac{64\\cdot 36 + 32}{\\lambda(16\\cdot 4\\cdot72 - 1)} = -\\frac{2336}{4607\\lambda} \\approx -\\frac{1}{2\\lambda}$$\n",
    "\n",
    "$$ y = \\frac{36}{\\lambda} - \\frac{72\\cdot 2336}{4607\\lambda} = -\\frac{2340}{4607\\lambda} \\approx -\\frac{1}{2\\lambda}.$$"
   ]
  },
  {
   "cell_type": "markdown",
   "metadata": {},
   "source": [
    "Откуда $$ \\lambda = \\pm \\frac{\\sqrt{69}}{8}. $$\n",
    "$$ \\psi(\\pm \\frac{\\sqrt{69}}{2}) = \\mp \\sqrt{69}.$$\n",
    "\n",
    "$$x = y = \\frac{4}{\\sqrt{69}} - \\text{минимум.}$$\n",
    "\n",
    "Ответ: $\\lambda = -\\frac{\\sqrt{69}}{8}$ решение двойственной задачи, $x = y = \\frac{4}{\\sqrt{69}}$ решение исходной задачи."
   ]
  },
  {
   "cell_type": "markdown",
   "metadata": {},
   "source": [
    "<h5>Задача 5.</h5>\n",
    "$$f(x_1,x_2) = 3x_1^2 - x_1x_2/8 + x_2^2 + x_2 \\longrightarrow \\min$$\n",
    "\n",
    "Начальное приближение: $(7,7).$\n"
   ]
  },
  {
   "cell_type": "markdown",
   "metadata": {},
   "source": [
    "Будем пользоваться:\n",
    "$$\\vec x_{k+1} = \\vec x_k - a_k\\cdot f'(\\vec x_k),$$"
   ]
  },
  {
   "cell_type": "markdown",
   "metadata": {},
   "source": [
    "где $a_k$ - точка минимума $g(\\alpha) = f(\\vec x_k+\\alpha \\vec d_k)$"
   ]
  },
  {
   "cell_type": "markdown",
   "metadata": {},
   "source": [
    "$$grad f(x_1,x_2) = (6x_1 - x_2/8, -x_1/8 + 2x_2 + 1).$$ \n",
    "\n",
    "Напишем несколько функций, упрощяющих вычисления."
   ]
  },
  {
   "cell_type": "code",
   "execution_count": null,
   "metadata": {
    "collapsed": true
   },
   "outputs": [],
   "source": [
    "def f(x_1,x_2):\n",
    "    return 3 * (x_1 ** 2 - x_1 * x_2 /8.0 + x_2 ** 2 + x_2"
   ]
  },
  {
   "cell_type": "code",
   "execution_count": 41,
   "metadata": {
    "collapsed": true
   },
   "outputs": [],
   "source": [
    "def g(x_1,x_2, d_1, d_2, alpha):\n",
    "    return f(x_1 + alpha*d_1, x_2 + alpha*d_2)"
   ]
  },
  {
   "cell_type": "code",
   "execution_count": 65,
   "metadata": {
    "collapsed": false
   },
   "outputs": [],
   "source": [
    "def grad_f(x_1, x_2):\n",
    "    return np.array([6 * x_1 - x_2 / 8., -x_1 / 8. + 2 * x_2 + 1])"
   ]
  },
  {
   "cell_type": "markdown",
   "metadata": {},
   "source": [
    "Посчитаем направление убывания функции."
   ]
  },
  {
   "cell_type": "code",
   "execution_count": 75,
   "metadata": {
    "collapsed": false
   },
   "outputs": [
    {
     "name": "stdout",
     "output_type": "stream",
     "text": [
      "[-41.125 -14.125]\n"
     ]
    }
   ],
   "source": [
    "x_0 = np.array([7,7])\n",
    "decrease_direction = -grad_f(7, 7)\n",
    "print decrease_direction"
   ]
  },
  {
   "cell_type": "markdown",
   "metadata": {},
   "source": [
    "Найдем минимум функции $g(\\alpha)$."
   ]
  },
  {
   "cell_type": "code",
   "execution_count": 82,
   "metadata": {
    "collapsed": false
   },
   "outputs": [
    {
     "data": {
      "text/plain": [
       "0.18180000000000973"
      ]
     },
     "execution_count": 82,
     "metadata": {},
     "output_type": "execute_result"
    }
   ],
   "source": [
    "alpha = np.linspace(-100,100,1000001)\n",
    "func_g = g(x_0[0], x_0[1], decrease_direction[0], decrease_direction[1], alpha)\n",
    "min_alpha_1 = min(zip(func_g,alpha))[1]\n",
    "min_alpha_1"
   ]
  },
  {
   "cell_type": "code",
   "execution_count": 83,
   "metadata": {
    "collapsed": false
   },
   "outputs": [
    {
     "data": {
      "text/plain": [
       "0.18178150000000973"
      ]
     },
     "execution_count": 83,
     "metadata": {},
     "output_type": "execute_result"
    }
   ],
   "source": [
    "epsilon = 0.25\n",
    "alpha = np.linspace(min_alpha_1 - epsilon, min_alpha_1 + epsilon,1000001)\n",
    "func_g = g(x_0[0], x_0[1], decrease_direction[0], decrease_direction[1], alpha)\n",
    "min_alpha_2 = min(zip(func_g,alpha))[1]\n",
    "min_alpha_2"
   ]
  },
  {
   "cell_type": "code",
   "execution_count": 78,
   "metadata": {
    "collapsed": false
   },
   "outputs": [],
   "source": [
    "def calculate_next_x_k(x, alpha):\n",
    "    return np.array(x - alpha*grad_f(x[0],x[1]))"
   ]
  },
  {
   "cell_type": "markdown",
   "metadata": {},
   "source": [
    "Посчитаем следующее приближение:"
   ]
  },
  {
   "cell_type": "code",
   "execution_count": 80,
   "metadata": {
    "collapsed": false
   },
   "outputs": [],
   "source": [
    "x_1 = calculate_next_x_k(x_0, min_alpha_2)"
   ]
  },
  {
   "cell_type": "markdown",
   "metadata": {},
   "source": [
    "Ответ:"
   ]
  },
  {
   "cell_type": "code",
   "execution_count": 81,
   "metadata": {
    "collapsed": false
   },
   "outputs": [
    {
     "name": "stdout",
     "output_type": "stream",
     "text": [
      "[-0.47576419  4.43233631]\n"
     ]
    }
   ],
   "source": [
    "print x_1"
   ]
  },
  {
   "cell_type": "markdown",
   "metadata": {},
   "source": [
    "<h5>Задача 6.</h5>"
   ]
  },
  {
   "cell_type": "markdown",
   "metadata": {},
   "source": [
    "$$ f(x_1, x_2) = 2x_1^2 - (x_1x_2)/3 + x_2^2 \\longrightarrow \\min,$$\n",
    "$$ \\vec x_0 = (0,9),$$\n",
    "$$ \\alpha_0 = \\hat \\alpha = 1,$$\n",
    "$$ \\varepsilon = \\theta =1/2$$"
   ]
  },
  {
   "cell_type": "markdown",
   "metadata": {},
   "source": [
    "Пользуемся $\\alpha_i = \\theta \\cdot \\alpha_{i-1},$ если \n",
    "$$ f(x_k - \\alpha d_k) < f(x_k) - \\varepsilon \\alpha \\langle f'(x_k), d_k \\rangle.$$"
   ]
  },
  {
   "cell_type": "code",
   "execution_count": 149,
   "metadata": {
    "collapsed": true
   },
   "outputs": [],
   "source": [
    "def f(x):\n",
    "    return 2*x[0] ** 2 - (x[0] * x[1])/3 + x[1] ** 2."
   ]
  },
  {
   "cell_type": "code",
   "execution_count": 177,
   "metadata": {
    "collapsed": false
   },
   "outputs": [],
   "source": [
    "def grad_f(x):\n",
    "    return np.array([4*x[0] - x[1]/3.0, -x[0]/3.0 + 2*x[1]])"
   ]
  },
  {
   "cell_type": "code",
   "execution_count": 178,
   "metadata": {
    "collapsed": false
   },
   "outputs": [
    {
     "data": {
      "text/plain": [
       "array([  3., -18.])"
      ]
     },
     "execution_count": 178,
     "metadata": {},
     "output_type": "execute_result"
    }
   ],
   "source": [
    "x_0 = np.array([0,9])\n",
    "eps = 0.5\n",
    "theta = 0.5\n",
    "alpha_0 = 1\n",
    "decrease_direction_0 = -grad_f(x_0)\n",
    "decrease_direction_0"
   ]
  },
  {
   "cell_type": "code",
   "execution_count": 179,
   "metadata": {
    "collapsed": false
   },
   "outputs": [],
   "source": [
    "def armicho_rull(x, alpha, decrease_direction):\n",
    "    temp = int(np.matrix(grad_f(x)) * np.transpose(np.matrix(decrease_direction)))\n",
    "    #print f(x - alpha * decrease_direction), f(x) - eps * alpha * temp, eps * alpha * temp\n",
    "    return f(x - alpha * decrease_direction) < f(x) - eps * alpha * temp"
   ]
  },
  {
   "cell_type": "markdown",
   "metadata": {},
   "source": [
    "Проверим выполнение условия Армихо."
   ]
  },
  {
   "cell_type": "code",
   "execution_count": 180,
   "metadata": {
    "collapsed": false
   },
   "outputs": [
    {
     "data": {
      "text/plain": [
       "False"
      ]
     },
     "execution_count": 180,
     "metadata": {},
     "output_type": "execute_result"
    }
   ],
   "source": [
    "armicho_rull(x_0, alpha_0, decrease_direction_0)"
   ]
  },
  {
   "cell_type": "markdown",
   "metadata": {},
   "source": [
    "Как видно, условие Армихо не выполняется, поэтому алгоритм продолжается."
   ]
  },
  {
   "cell_type": "code",
   "execution_count": 181,
   "metadata": {
    "collapsed": false
   },
   "outputs": [],
   "source": [
    "alpha_1 = theta * alpha_0"
   ]
  },
  {
   "cell_type": "code",
   "execution_count": 182,
   "metadata": {
    "collapsed": true
   },
   "outputs": [],
   "source": [
    "def calculate_next_x_k(x, decrease_direction, alpha):\n",
    "    return np.array(x + alpha*decrease_direction)"
   ]
  },
  {
   "cell_type": "code",
   "execution_count": 183,
   "metadata": {
    "collapsed": false
   },
   "outputs": [
    {
     "data": {
      "text/plain": [
       "array([ 3., -9.])"
      ]
     },
     "execution_count": 183,
     "metadata": {},
     "output_type": "execute_result"
    }
   ],
   "source": [
    "x_1 = calculate_next_x_k(x_0, decrease_direction_0, alpha_0)\n",
    "x_1"
   ]
  },
  {
   "cell_type": "code",
   "execution_count": 184,
   "metadata": {
    "collapsed": true
   },
   "outputs": [],
   "source": [
    "decrease_direction_1 = -grad_f(x_1)"
   ]
  },
  {
   "cell_type": "code",
   "execution_count": 185,
   "metadata": {
    "collapsed": false
   },
   "outputs": [
    {
     "data": {
      "text/plain": [
       "False"
      ]
     },
     "execution_count": 185,
     "metadata": {},
     "output_type": "execute_result"
    }
   ],
   "source": [
    "armicho_rull(x_1, alpha_1, decrease_direction_1)"
   ]
  },
  {
   "cell_type": "markdown",
   "metadata": {},
   "source": [
    "Условие снова не выполняется."
   ]
  },
  {
   "cell_type": "code",
   "execution_count": 186,
   "metadata": {
    "collapsed": true
   },
   "outputs": [],
   "source": [
    "alpha_2 = theta * alpha_1"
   ]
  },
  {
   "cell_type": "code",
   "execution_count": 188,
   "metadata": {
    "collapsed": true
   },
   "outputs": [],
   "source": [
    "x_2 = calculate_next_x_k(x_1, decrease_direction_1, alpha_1)\n",
    "decrease_direction_2 = -grad_f(x_2)"
   ]
  },
  {
   "cell_type": "code",
   "execution_count": 190,
   "metadata": {
    "collapsed": false
   },
   "outputs": [
    {
     "data": {
      "text/plain": [
       "False"
      ]
     },
     "execution_count": 190,
     "metadata": {},
     "output_type": "execute_result"
    }
   ],
   "source": [
    "armicho_rull(x_2, alpha_2, decrease_direction_2)"
   ]
  },
  {
   "cell_type": "markdown",
   "metadata": {},
   "source": [
    "Вторая итерация закончена."
   ]
  },
  {
   "cell_type": "markdown",
   "metadata": {},
   "source": [
    "<h5>Задача 7.</h5>"
   ]
  },
  {
   "cell_type": "markdown",
   "metadata": {},
   "source": [
    "$$ \\sin(x_1) + \\cos(x_2/7) + \\sin(x_1/9)\\sin(x_2/8) \\longrightarrow \\min$$\n",
    "\n",
    "$$\\text{Начальное приближение:} (\\pi/9, \\pi/9).$$"
   ]
  },
  {
   "cell_type": "code",
   "execution_count": 235,
   "metadata": {
    "collapsed": false
   },
   "outputs": [
    {
     "data": {
      "text/plain": [
       "0.8414709848078965"
      ]
     },
     "execution_count": 235,
     "metadata": {},
     "output_type": "execute_result"
    }
   ],
   "source": [
    "math.sin(1)"
   ]
  },
  {
   "cell_type": "markdown",
   "metadata": {},
   "source": [
    "Метод Ньютона для функций многих переменных: $x_{i+1} = x_i - (f''(x_i))^{-1}f'(x_i)$. "
   ]
  },
  {
   "cell_type": "code",
   "execution_count": 215,
   "metadata": {
    "collapsed": false
   },
   "outputs": [],
   "source": [
    "def f(x):\n",
    "    return math.sin(x[0]) + math.cos(x[1]/7.) + math.sin(x[1]/9.)*math.sin(x[1]/8.)"
   ]
  },
  {
   "cell_type": "code",
   "execution_count": 289,
   "metadata": {
    "collapsed": false
   },
   "outputs": [],
   "source": [
    "def grad_f(x):\n",
    "    return np.array([math.cos(x[0]) + (1/9.) * math.cos(x[0]/9.) * math.sin(x[1]/8.),\\\n",
    "                    (-1/7.) * math.sin(x[1]/7.) + (1/8.) * math.cos(x[1]/8.) * math.sin(x[0]/9.)])\n"
   ]
  },
  {
   "cell_type": "code",
   "execution_count": 308,
   "metadata": {
    "collapsed": false
   },
   "outputs": [],
   "source": [
    "def double_grad_f(x):\n",
    "    return np.matrix([[(- 1) * math.sin(x[0]) - (1/81.) * math.sin(x[0]/9.) * math.sin(x[1]/8.), \n",
    "                       (1/72.) * math.cos(x[0]/9.) * math.sin(x[1]/8.)],\n",
    "                      [-(1/49.) * math.cos(x[1]/7.) - (1/64.) * math.sin(x[1]/8.) * math.sin(x[0]/9.),\n",
    "                       (1/72.) * math.cos(x[0]/9.) * math.sin(x[1]/8.)]])"
   ]
  },
  {
   "cell_type": "code",
   "execution_count": 351,
   "metadata": {
    "collapsed": false
   },
   "outputs": [],
   "source": [
    "x_1 = np.transpose(np.matrix(x_0)) - np.matrix(double_grad_f(x_0) ** (-1) * np.transpose(np.matrix(grad_f(x_0))))"
   ]
  },
  {
   "cell_type": "code",
   "execution_count": 375,
   "metadata": {
    "collapsed": false
   },
   "outputs": [
    {
     "data": {
      "text/plain": [
       "array([   3.29284846,  103.35867249])"
      ]
     },
     "execution_count": 375,
     "metadata": {},
     "output_type": "execute_result"
    }
   ],
   "source": [
    "x_1 = np.transpose(x_1)\n",
    "x_1"
   ]
  },
  {
   "cell_type": "code",
   "execution_count": 385,
   "metadata": {
    "collapsed": false
   },
   "outputs": [],
   "source": [
    "x_2 = np.transpose(np.matrix(x_1)) - np.matrix(double_grad_f(x_1) ** (-1) * np.transpose(np.matrix(grad_f(x_1))))"
   ]
  },
  {
   "cell_type": "code",
   "execution_count": 386,
   "metadata": {
    "collapsed": false
   },
   "outputs": [
    {
     "data": {
      "text/plain": [
       "matrix([[   9.61289495,  105.59215593]])"
      ]
     },
     "execution_count": 386,
     "metadata": {},
     "output_type": "execute_result"
    }
   ],
   "source": [
    "x_2 = (np.transpose(x_2))\n",
    "x_2"
   ]
  },
  {
   "cell_type": "markdown",
   "metadata": {},
   "source": [
    "Вторая итерация закончена."
   ]
  },
  {
   "cell_type": "markdown",
   "metadata": {},
   "source": [
    "<h5>Задача 8.</h5>"
   ]
  },
  {
   "cell_type": "markdown",
   "metadata": {},
   "source": [
    "$$ 7x_1^2 - \\frac{x_1\\cdot x_2}{6} + 2x_2^2 \\longrightarrow \\min$$\n",
    "$$ 4x_1 + 2x_2 = 1$$\n",
    "$$ x_0 = (0, 1/4)$$\n",
    "\n",
    "Сведем задачу к стандартной : \n",
    "$$f(x) = \\frac{1}{2}(Qx,x)$$\n",
    "$$ Ax = b$$\n",
    "\n",
    "Посчитаем оператор проектирования по формуле : $P = E - A^T(A \\cdot A^T)^{-1}A.$"
   ]
  },
  {
   "cell_type": "code",
   "execution_count": 404,
   "metadata": {
    "collapsed": false
   },
   "outputs": [
    {
     "data": {
      "text/plain": [
       "matrix([[ 0.2, -0.4],\n",
       "        [-0.4,  0.8]])"
      ]
     },
     "execution_count": 404,
     "metadata": {},
     "output_type": "execute_result"
    }
   ],
   "source": [
    "A = np.matrix([[4,2]])\n",
    "b = 1\n",
    "Q = np.matrix([[14, -1/6.],[-1/6., 4]])\n",
    "P = np.transpose(A) * (A * np.transpose(A)) ** (-1) * A\n",
    "E = np.matrix([[1,0],[0,1]])\n",
    "P = E - P\n",
    "P"
   ]
  },
  {
   "cell_type": "code",
   "execution_count": 396,
   "metadata": {
    "collapsed": false
   },
   "outputs": [
    {
     "data": {
      "text/plain": [
       "array([-0.04166667,  1.        ])"
      ]
     },
     "execution_count": 396,
     "metadata": {},
     "output_type": "execute_result"
    }
   ],
   "source": [
    "x_0 = np.array([0, 1/4.])\n",
    "step_1 = grad_f(x_0)\n",
    "step_1"
   ]
  },
  {
   "cell_type": "markdown",
   "metadata": {},
   "source": [
    "Найдем $y$ из равенства: $P\\cdot Q\\cdot P\\cdot y = -P \\cdot Q \\cdot x_0.$"
   ]
  },
  {
   "cell_type": "code",
   "execution_count": 405,
   "metadata": {
    "collapsed": true
   },
   "outputs": [],
   "source": [
    "A = P* Q * P"
   ]
  },
  {
   "cell_type": "code",
   "execution_count": 410,
   "metadata": {
    "collapsed": false
   },
   "outputs": [],
   "source": [
    "B = - P * Q * np.transpose(np.matrix(x_0))"
   ]
  },
  {
   "cell_type": "code",
   "execution_count": 411,
   "metadata": {
    "collapsed": false
   },
   "outputs": [
    {
     "data": {
      "text/plain": [
       "matrix([[ 0.40833333],\n",
       "        [-0.81666667]])"
      ]
     },
     "execution_count": 411,
     "metadata": {},
     "output_type": "execute_result"
    }
   ],
   "source": [
    "B"
   ]
  },
  {
   "cell_type": "code",
   "execution_count": 414,
   "metadata": {
    "collapsed": false
   },
   "outputs": [
    {
     "data": {
      "text/plain": [
       "matrix([[ 0.25  ],\n",
       "        [-0.0625]])"
      ]
     },
     "execution_count": 414,
     "metadata": {},
     "output_type": "execute_result"
    }
   ],
   "source": [
    "y = A ** (-1) * B\n",
    "y"
   ]
  },
  {
   "cell_type": "code",
   "execution_count": 417,
   "metadata": {
    "collapsed": true
   },
   "outputs": [],
   "source": [
    "x_new = np.transpose(np.matrix(x_0)) + P * y"
   ]
  },
  {
   "cell_type": "code",
   "execution_count": 418,
   "metadata": {
    "collapsed": false
   },
   "outputs": [
    {
     "data": {
      "text/plain": [
       "matrix([[ 0.075],\n",
       "        [ 0.1  ]])"
      ]
     },
     "execution_count": 418,
     "metadata": {},
     "output_type": "execute_result"
    }
   ],
   "source": [
    "x_new"
   ]
  },
  {
   "cell_type": "markdown",
   "metadata": {},
   "source": [
    "Ответ: $(0.075, 0.1).$"
   ]
  },
  {
   "cell_type": "markdown",
   "metadata": {},
   "source": [
    "<h5>Задача 9.</h5>"
   ]
  },
  {
   "cell_type": "markdown",
   "metadata": {},
   "source": [
    "$$x_1^2 - \\frac{x_1\\cdot x_2}{3} + 5x_2^2 + 4x_2 \\longrightarrow \\min$$\n",
    "$$ 4x_1 + 8x_2 = 6.$$"
   ]
  },
  {
   "cell_type": "markdown",
   "metadata": {},
   "source": [
    "Заметим, что $f$ практически квадратичная форма, поэтому возьмем квадратичную штраф-функцию: $P(x) = (4x_1 + 8x_2 - 6)^2$, тогда исходная задача сводится к задаче минимизации функции $g_r(x_1 x_2) = x_1^2 - (x_1x_2)/3 + 5x_2^2 + 4x_2 + r(4x_1 + 8x_2 - 6)^2$."
   ]
  },
  {
   "cell_type": "markdown",
   "metadata": {
    "collapsed": true
   },
   "source": [
    "Решаем систему относительно $r$:\n",
    "$$ g'_{x_1} = 2x_1 - x_2/3 + 2r\\cdot 4(4x_1 + 8x_2 - 6) = 0,$$\n",
    "$$ g'_{x_2} = -x_1/3 + 10x_2 + 4 + 2r\\cdot 8(4x_1 + 8x_2 - 6) = 0.$$"
   ]
  },
  {
   "cell_type": "markdown",
   "metadata": {
    "collapsed": true
   },
   "source": [
    "$$x_1 = \\frac{x_2/3 - 8r(8x_2 - 6)}{2(1+16r)}$$"
   ]
  },
  {
   "cell_type": "markdown",
   "metadata": {
    "collapsed": true
   },
   "source": [
    "$$ -\\frac{x_2/3 - 8r(8x_2 - 6)}{3 \\cdot 2(1+16r)} + 10x_2 + 4 + 2r\\cdot 8\\cdot \\left( \\frac{4(x_2/3 - 8r(8x_2 - 6))}{2(1+16r)}  + 8x_2 - 6\\right) = 0$$"
   ]
  },
  {
   "cell_type": "markdown",
   "metadata": {},
   "source": [
    "$$-x_2/3 + 8r(8x_2 - 6) + 12(5x_2 + 2)(1 + 16r) + 16r(12(x_2/3 - 8r(8x_2 - 6)) + 3(8x_2 - 6)) = 0$$"
   ]
  },
  {
   "cell_type": "markdown",
   "metadata": {},
   "source": [
    "$$-x_2/3 + 64rx_2 - 48r + 60(1 + 16r)x_2 + 24(1 + 16r) + 16r(4x_2 - 12\\cdot8r(8x_2 - 6)) + 16\\cdot 3r(8x_2 - 6) = 0$$"
   ]
  },
  {
   "cell_type": "markdown",
   "metadata": {},
   "source": [
    "$$x_2(-1/3 + 64r + 12\\cdot5(1 + 16r) + 24\\cdot16r + 16r\\cdot 4 - 16\\cdot 12\\cdot 64 \\cdot r^2 + 24\\cdot 16r) + -48r + 24(1+16r) + 16\\cdot 48 \\cdot 12 \\cdot r^2 - 48\\cdot r\\cdot 6= 0$$"
   ]
  },
  {
   "cell_type": "markdown",
   "metadata": {},
   "source": [
    "$$ x_2 = \\frac{- 9216r^2 -48r - 24}{12288r^2 + 1856r + 59.6} = f_2(r) $$"
   ]
  },
  {
   "cell_type": "markdown",
   "metadata": {},
   "source": [
    "$$x_1 = \\frac{ \\frac{- 9216r^2 -48r - 24}{3\\cdot(12288r^2 + 1856r + 59.6)} - 8r(8\\frac{- 9216r^2 -48r - 24}{12288r^2 + 1856r + 59.6} - 6)}{2(1+16r)} = f_1(r)$$"
   ]
  },
  {
   "cell_type": "code",
   "execution_count": 24,
   "metadata": {
    "collapsed": false
   },
   "outputs": [
    {
     "data": {
      "text/plain": [
       "-0.75"
      ]
     },
     "execution_count": 24,
     "metadata": {},
     "output_type": "execute_result"
    }
   ],
   "source": [
    "-9216/12288."
   ]
  },
  {
   "cell_type": "markdown",
   "metadata": {
    "collapsed": true
   },
   "source": [
    "$$ x^*_2 = \\lim_{r \\rightarrow \\infty}f_2(r) = \\frac{-9216}{12288} = -0.75$$"
   ]
  },
  {
   "cell_type": "markdown",
   "metadata": {},
   "source": [
    "$$ x_1^* = \\lim_{r \\rightarrow \\infty} f_1(r) = 3.$$"
   ]
  },
  {
   "cell_type": "markdown",
   "metadata": {},
   "source": [
    "Ответ: $x^*_1 = 0.75, x_2^* = 3.$"
   ]
  },
  {
   "cell_type": "markdown",
   "metadata": {},
   "source": [
    "<h5>Задача 10.</h5>"
   ]
  },
  {
   "cell_type": "markdown",
   "metadata": {},
   "source": [
    "$$f(x_1, x_2) = 9x_1^2 - 2x_1x_2 + 6x_2^2 + 9x_1 \\longrightarrow \\min $$\n",
    "$$ 7x_1 + 2x_2 \\leqslant 9$$"
   ]
  },
  {
   "cell_type": "markdown",
   "metadata": {},
   "source": [
    "Возьмем $P(x)= \\max^2(7x_1 + 2x_2 - 9, 0),$ тогда исходная задача сводится к минимизации функции\n",
    "$$ g_r(x_1, x_2) = 9x_1^2 - 2x_1x_2 + 6x_2^2 + 9x_1 + r (\\max(7x_1 + 2x_2 - 9, 0))^{2}.$$\n",
    "\n",
    "Рассмотрим возможные случаи:\n",
    "\n",
    "1) $7x_1 + 2x_2 - 9 \\geqslant 0.$\n",
    "$$ g(x_1,x_2) = 9x_1^2 - 2x_1x_2 + 6x_2^2 + 9x_1 + r(7x_1 + 2x_2)^2 - 18r(7x_1 + 2x_2) + 81r.$$"
   ]
  },
  {
   "cell_type": "markdown",
   "metadata": {},
   "source": [
    "$$g'_{x_1} = 18x_1 - 2x_2 + 9 + 2r(7x_1 + 2x_2)\\cdot 7 - 18r\\cdot 7 = 0,$$\n",
    "$$ g'_{x_2} = -2x_1 + 12x_2 + 2r(7x_1 + 2x_2)\\cdot 2 - 2\\cdot 18r = 0.$$"
   ]
  },
  {
   "cell_type": "markdown",
   "metadata": {},
   "source": [
    "Откуда получаем:\n",
    "$$ (4r-2)x_2 = -18x_1 - 9 - 14rx_1 +  126r$$\n",
    "$$ x_2 = \\frac{-18x_1 - 9 - 14rx_1 +  126r}{(4r-2)}.$$\n",
    "Подставляя во второе равенство для производных, получаем:"
   ]
  },
  {
   "cell_type": "markdown",
   "metadata": {},
   "source": [
    "$$-2x_1 + 6\\frac{-18x_1 - 9 - 14rx_1 +  126r}{(2r-1)} + 2r(14x_1 + 2\\frac{-18x_1 - 9 - 14rx_1 +  126r}{(2r-1)}) - 2\\cdot 18r = 0,$$"
   ]
  },
  {
   "cell_type": "markdown",
   "metadata": {},
   "source": [
    "$$-2x_1(2r - 1) + 6(-18x_1 - 9 - 14rx_1 +  126r) + 14rx_1(4r-2) + 4r(-18x_1 - 9 - 14rx_1 +  126r) - 36(2r-1)r = 0,$$"
   ]
  },
  {
   "cell_type": "markdown",
   "metadata": {},
   "source": [
    "$$ x_1(2 - 4r - 6\\cdot (18 + 14r) + 28r(2r-1) + 4r(-18 - 14r)) + 6(126r - 9) + 4r(-9 + 126r) -36(2r-1) = 0,$$\n",
    "$$ x_1 = -\\frac{6(126r - 9) + 4r(-9 + 126r) -36(2r-1)}{2 - 4r - 6\\cdot (18 + 14r) + 28r(2r-1) + 4r(-18 - 14r)} = f_1(r).$$\n",
    "\n",
    "И тогда $x_1^* = \\lim_{r \\rightarrow \\infty} f_1(r) = -9 $."
   ]
  },
  {
   "cell_type": "code",
   "execution_count": 38,
   "metadata": {
    "collapsed": false
   },
   "outputs": [
    {
     "data": {
      "text/plain": [
       "9.0"
      ]
     },
     "execution_count": 38,
     "metadata": {},
     "output_type": "execute_result"
    }
   ],
   "source": [
    "4*126/56."
   ]
  },
  {
   "cell_type": "code",
   "execution_count": 39,
   "metadata": {
    "collapsed": false
   },
   "outputs": [
    {
     "data": {
      "text/plain": [
       "31"
      ]
     },
     "execution_count": 39,
     "metadata": {},
     "output_type": "execute_result"
    }
   ],
   "source": [
    "9*14/4"
   ]
  },
  {
   "cell_type": "markdown",
   "metadata": {},
   "source": [
    "$x_2^* = \\lim_{r \\rightarrow \\infty} f_2(r) = 31$"
   ]
  },
  {
   "cell_type": "code",
   "execution_count": 33,
   "metadata": {
    "collapsed": true
   },
   "outputs": [],
   "source": [
    "def f(x):\n",
    "    return 9 * x[0] ** 2 - 2 * x[0] * x[1] + 6 * x[1] ** 2 + 9 * x[0]"
   ]
  },
  {
   "cell_type": "markdown",
   "metadata": {},
   "source": [
    "Посчитаем значение функции в найденных точках."
   ]
  },
  {
   "cell_type": "code",
   "execution_count": 47,
   "metadata": {
    "collapsed": true
   },
   "outputs": [],
   "source": [
    "x_1 = np.array([-9, 31])"
   ]
  },
  {
   "cell_type": "code",
   "execution_count": 48,
   "metadata": {
    "collapsed": false
   },
   "outputs": [
    {
     "data": {
      "text/plain": [
       "6972"
      ]
     },
     "execution_count": 48,
     "metadata": {},
     "output_type": "execute_result"
    }
   ],
   "source": [
    "f(x_1)"
   ]
  },
  {
   "cell_type": "markdown",
   "metadata": {},
   "source": [
    "2) $7x_1 + 2x_2 - 9 \\geqslant 0$\n",
    "$ g(x_1,x_2) = 9x_1^2 - 2x_1x_2 + 6x_2^2 + 9x_1. $\n",
    "\n",
    "$$g'_{x_1} = 18x_1 - 2x_2 + 9 = 0,$$\n",
    "$$ g'_{x_2} = -2x_1 + 12x_2 = 0.$$\n",
    "\n",
    "$$x_1 = 6x_2$$\n",
    "$$18\\cdot6x_2 - 2x_2 + 9 = 0$$\n",
    "$$x_2 = -\\frac{9}{106}, x_1 = -\\frac{27}{53}.$$"
   ]
  },
  {
   "cell_type": "code",
   "execution_count": 42,
   "metadata": {
    "collapsed": false
   },
   "outputs": [
    {
     "data": {
      "text/plain": [
       "-0.08490566037735849"
      ]
     },
     "execution_count": 42,
     "metadata": {},
     "output_type": "execute_result"
    }
   ],
   "source": [
    "-9/106."
   ]
  },
  {
   "cell_type": "code",
   "execution_count": 43,
   "metadata": {
    "collapsed": false
   },
   "outputs": [
    {
     "data": {
      "text/plain": [
       "-0.5094339622641509"
      ]
     },
     "execution_count": 43,
     "metadata": {},
     "output_type": "execute_result"
    }
   ],
   "source": [
    "-27/53."
   ]
  },
  {
   "cell_type": "code",
   "execution_count": 45,
   "metadata": {
    "collapsed": false
   },
   "outputs": [
    {
     "data": {
      "text/plain": [
       "-2.2924528299000002"
      ]
     },
     "execution_count": 45,
     "metadata": {},
     "output_type": "execute_result"
    }
   ],
   "source": [
    "x_2 = np.array([-0.50943,-0.08490])\n",
    "f(x_2)"
   ]
  },
  {
   "cell_type": "markdown",
   "metadata": {},
   "source": [
    "Ответ: $f(x_2) < f(x_1),$ значит точка $(-0.51, -0.08)$ является минимумом f при заданных условиях."
   ]
  },
  {
   "cell_type": "markdown",
   "metadata": {},
   "source": [
    "<h5>Задача 11.</h5>"
   ]
  },
  {
   "cell_type": "code",
   "execution_count": 5,
   "metadata": {
    "collapsed": false,
    "scrolled": true
   },
   "outputs": [
    {
     "data": {
      "text/html": [
       "<div style=\"max-height:1000px;max-width:1500px;overflow:auto;\">\n",
       "<table border=\"1\" class=\"dataframe\">\n",
       "  <thead>\n",
       "    <tr style=\"text-align: right;\">\n",
       "      <th></th>\n",
       "      <th>First\\Second</th>\n",
       "      <th>L</th>\n",
       "      <th>C</th>\n",
       "      <th>R</th>\n",
       "      <th>RR</th>\n",
       "    </tr>\n",
       "  </thead>\n",
       "  <tbody>\n",
       "    <tr>\n",
       "      <th>0</th>\n",
       "      <td>U</td>\n",
       "      <td>1</td>\n",
       "      <td>5</td>\n",
       "      <td>0</td>\n",
       "      <td>-2</td>\n",
       "    </tr>\n",
       "    <tr>\n",
       "      <th>1</th>\n",
       "      <td>D</td>\n",
       "      <td>-2</td>\n",
       "      <td>3</td>\n",
       "      <td>7</td>\n",
       "      <td>9</td>\n",
       "    </tr>\n",
       "  </tbody>\n",
       "</table>\n",
       "</div>"
      ],
      "text/plain": [
       "  First\\Second  L  C  R  RR\n",
       "0            U  1  5  0  -2\n",
       "1            D -2  3  7   9"
      ]
     },
     "execution_count": 5,
     "metadata": {},
     "output_type": "execute_result"
    }
   ],
   "source": [
    "import matplotlib.pyplot as plt\n",
    "game = pd.read_csv(\"game_1.csv\")\n",
    "game"
   ]
  },
  {
   "cell_type": "markdown",
   "metadata": {},
   "source": [
    "Данные подобраны так, чтобы не было доминирующих стратегий."
   ]
  },
  {
   "cell_type": "code",
   "execution_count": 3,
   "metadata": {
    "collapsed": false
   },
   "outputs": [],
   "source": [
    "p = np.linspace(0, 1, 3)\n",
    "l_1 = p - 2 * (1 - p)\n",
    "l_2 = 5 * p + 3 * (1 - p)\n",
    "l_3 = 7 * (1 - p)\n",
    "l_4 = -2 * p + 9 * (1 - p)"
   ]
  },
  {
   "cell_type": "code",
   "execution_count": null,
   "metadata": {
    "collapsed": false
   },
   "outputs": [],
   "source": [
    "plt.figure(figsize=(20, 6))\n",
    "plt.plot(p, l_1, '-', c='red')\n",
    "plt.plot(p, l_2, '-', c='blue')\n",
    "plt.plot(p, l_3, '-', c='black')\n",
    "plt.plot(p, l_4, '-', c='green')\n",
    "x_peresechenie = 0.784\n",
    "y_peresechenie = x_peresechenie - 2 * (1 - x_peresechenie)\n",
    "plt.plot(x_peresechenie, y_peresechenie, 'o', c='black')\n",
    "plt.show()"
   ]
  },
  {
   "cell_type": "markdown",
   "metadata": {},
   "source": [
    "<img src=\"figure_2.png\">"
   ]
  },
  {
   "cell_type": "markdown",
   "metadata": {},
   "source": [
    "В точке $A$ достигается максимум нижней огибающей. Ее координаты находим из уравнения: $3 \\cdot p - 2 = -11 \\cdot p + 9,$ откуда $p = \\frac{11}{14}$, смешанная стратегия первого: $(11/14, 3/14).$ "
   ]
  },
  {
   "cell_type": "markdown",
   "metadata": {},
   "source": [
    "Для второго игрока смешанная стратегия:\n",
    "$$3q - 11(1-q) = 0,$$\n",
    "$$q = \\frac{11}{14}.$$"
   ]
  },
  {
   "cell_type": "markdown",
   "metadata": {
    "collapsed": true
   },
   "source": [
    "Итак, $(11/14, 3/14)$ - смешанная стратегия первого, $(11/14, 0, 0, 3/14)$ - смешанная стратегия второго.\n",
    "Решение игры: $u = 3/14,$ оно же седловая точка."
   ]
  }
 ],
 "metadata": {
  "kernelspec": {
   "display_name": "Python 2",
   "language": "python",
   "name": "python2"
  },
  "language_info": {
   "codemirror_mode": {
    "name": "ipython",
    "version": 2
   },
   "file_extension": ".py",
   "mimetype": "text/x-python",
   "name": "python",
   "nbconvert_exporter": "python",
   "pygments_lexer": "ipython2",
   "version": "2.7.6"
  }
 },
 "nbformat": 4,
 "nbformat_minor": 0
}
