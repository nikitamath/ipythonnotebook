{
 "metadata": {
  "kernelspec": {
   "display_name": "Python 2",
   "language": "python",
   "name": "python2"
  },
  "language_info": {
   "codemirror_mode": {
    "name": "ipython",
    "version": 2
   },
   "file_extension": ".py",
   "mimetype": "text/x-python",
   "name": "python",
   "nbconvert_exporter": "python",
   "pygments_lexer": "ipython2",
   "version": "2.7.6"
  },
  "name": "",
  "signature": "sha256:86a0d25404d178cbdd48be1d3ba226fe9f920e8654e14b6715729ee1706ab8b1"
 },
 "nbformat": 3,
 "nbformat_minor": 0,
 "worksheets": [
  {
   "cells": [
    {
     "cell_type": "markdown",
     "metadata": {},
     "source": [
      "##\u0414\u043e\u043c\u0430\u0448\u043d\u044f\u044f \u0440\u0430\u0431\u043e\u0442\u0430 \u043f\u043e \u043c\u0435\u0442\u043e\u0434\u0430\u043c \u043e\u043f\u0442\u0438\u043c\u0438\u0437\u0430\u0446\u0438\u0438, 399 \u0433\u0440\u0443\u043f\u043f\u0430.\n",
      "###\u041c\u0435\u0434\u0432\u0435\u0434\u0435\u0432\u0430 \u0410\u043d\u043d\u0430."
     ]
    },
    {
     "cell_type": "code",
     "collapsed": true,
     "input": [
      "from scipy.optimize import linprog\n",
      "\n",
      "import numpy as np\n",
      "import pandas as pd\n",
      "import math as math"
     ],
     "language": "python",
     "metadata": {},
     "outputs": [],
     "prompt_number": 2
    },
    {
     "cell_type": "markdown",
     "metadata": {},
     "source": [
      "<h5>\u0417\u0430\u0434\u0430\u0447\u0430 1.</h5>\n",
      "$$6 x_1 + x_2 + 8x_3 \\longrightarrow \\max$$\n",
      "$$3 x_2 + 3 x_3 \\leqslant 9$$\n",
      "$$8 x_1 + 8 x_2 + 7 x_3 \\leqslant 4$$\n",
      "\n",
      "\u041f\u0440\u0438\u0432\u0435\u0434\u0435\u043c \u0437\u0430\u0434\u0430\u0447\u0443 \u043a \u043a\u0430\u043d\u043e\u043d\u0438\u0447\u0435\u0441\u043a\u043e\u0439: \n",
      "$$\\langle \\vec c, \\vec x\\rangle \\rightarrow \\max,$$\n",
      "$$A \\vec x \\leqslant bound,$$\n",
      "$$ x \\geqslant \\vec 0.$$"
     ]
    },
    {
     "cell_type": "code",
     "collapsed": false,
     "input": [
      "A = [[0,3,3],[8,8,7]]\n",
      "bound = [9,4]\n",
      "c = [-6,-1,-8]\n",
      "bnds = [(0, None),(0,None),(0,None)]"
     ],
     "language": "python",
     "metadata": {},
     "outputs": [],
     "prompt_number": 4
    },
    {
     "cell_type": "code",
     "collapsed": false,
     "input": [
      "res = linprog(c, A_ub=A, b_ub=bound, bounds=bnds)\n",
      "print(res)"
     ],
     "language": "python",
     "metadata": {},
     "outputs": [
      {
       "output_type": "stream",
       "stream": "stdout",
       "text": [
        "  status: 0\n",
        "   slack: array([ 7.28571429,  0.        ])\n",
        " success: True\n",
        "     fun: -4.5714285714285712\n",
        "       x: array([ 0.        ,  0.        ,  0.57142857])\n",
        " message: 'Optimization terminated successfully.'\n",
        "     nit: 1\n"
       ]
      }
     ],
     "prompt_number": 5
    },
    {
     "cell_type": "markdown",
     "metadata": {},
     "source": [
      "\u041e\u0442\u0432\u0435\u0442:"
     ]
    },
    {
     "cell_type": "code",
     "collapsed": false,
     "input": [
      "print(res.x, -res.fun)"
     ],
     "language": "python",
     "metadata": {},
     "outputs": [
      {
       "output_type": "stream",
       "stream": "stdout",
       "text": [
        "(array([ 0.        ,  0.        ,  0.57142857]), 4.5714285714285712)\n"
       ]
      }
     ],
     "prompt_number": 14
    },
    {
     "cell_type": "markdown",
     "metadata": {},
     "source": [
      "<h5>\u0417\u0430\u0434\u0430\u0447\u0430 2.</h5>"
     ]
    },
    {
     "cell_type": "markdown",
     "metadata": {},
     "source": [
      "\u041d\u0430\u0439\u0442\u0438 \u0441\u0443\u0431\u0434\u0438\u0444\u0444\u0435\u0440\u0435\u043d\u0446\u0438\u0430\u043b \u0444\u0443\u043d\u043a\u0446\u0438\u0438:\n",
      "$$ f = \\max\\{g_1, g_2\\} = \\max\\{|9x + 9y|,|2x^2 + \\frac{xy}{4} + y^2|\\}.$$"
     ]
    },
    {
     "cell_type": "markdown",
     "metadata": {},
     "source": [
      "\u0414\u0438\u0444\u0444\u0435\u0440\u0435\u043d\u0446\u0438\u0430\u043b\u044b \u0444\u0443\u043d\u043a\u0446\u0438\u0439 $g_1, g_2:$\n",
      "$dg_1 = 9dx + 9dy, $ $dg_2 = (4x + y/4)dx + (2y + x/4)dy.$\n",
      "\n",
      "\u041f\u0443\u0441\u0442\u044c \u0442\u043e\u0447\u043a\u0430 $(x_0, y_0)$ \u0443\u0434\u043e\u0432\u043b\u0435\u0442\u0432\u043e\u0440\u044f\u0435\u0442 \u0440\u0430\u0432\u0435\u043d\u0441\u0442\u0432\u0443:\n",
      "$$ 9x + 9y = 2x^2 + \\frac{xy}{4} + y^2,$$\n",
      "\u0438 $g_1 > 0.$ \u0422\u043e\u0433\u0434\u0430 c\u0443\u0431\u0434\u0438\u0444\u0444\u0435\u0440\u0435\u043d\u0446\u0438\u0430\u043b $f$ \u0432 \u044d\u0442\u043e\u0439 \u0442\u043e\u0447\u043a\u0435 \u0438\u043c\u0435\u0435\u0442 \u0432\u0438\u0434 \u0438\u043c\u0435\u0435\u0442 \u0432\u0438\u0434:\n",
      "$$df(x_0, y_0) = \\{(9(1-t) + (4x + y/4)t)dx + (9(1-t) + (2y + x/4)t)dy\\ |\\ 0 \\leqslant t \\leqslant 1\\}.$$\n",
      "\u0422\u043e\u0447\u043a\u0438, \u0433\u0434\u0435 $9x + 9y < 0$ \u0438 $-9x - 9y = 2x^2 + \\frac{xy}{4} + y^2,$ \u0441\u0438\u043c\u043c\u0435\u0442\u0440\u0438\u0447\u043d\u044b \u0432\u044b\u0448\u0435\u0440\u0430\u0441\u0441\u043c\u043e\u0442\u0440\u0435\u043d\u043d\u044b\u043c \u043e\u0442\u043d\u043e\u0441\u0438\u0442\u0435\u043b\u044c\u043d\u043e \u0446\u0435\u043d\u0442\u0440\u0430 \u043a\u043e\u043e\u0440\u0434\u0438\u043d\u0430\u0442.\n",
      "\u0412 \u0442\u043e\u0447\u043a\u0430, \u0433\u0434\u0435 $g_1 \\not = g_2$ \u0441\u0443\u0431\u0434\u0438\u0444\u0444\u0435\u0440\u0435\u043d\u0446\u0438\u0430\u043b \u0440\u0430\u0432\u0435\u043d \u0434\u0438\u0444\u0444\u0435\u0440\u0435\u043d\u0446\u0438\u0430\u043b\u0443."
     ]
    },
    {
     "cell_type": "markdown",
     "metadata": {},
     "source": [
      "\u041e\u0442\u0432\u0435\u0442:\n",
      "$$\n",
      "    df =\n",
      "    \\begin{cases}\n",
      "        9 sgn(x + y)(dx + dy), & g_1 > g_2 \\\\\n",
      "        9 (4x + y/4)dx + (2y + x/8)dy, & g_1<g_2 \\\\\n",
      "        (9 \\cdot sgn(x + y)(1-t) + (4x + y/4)t)dx + (9 \\cdot sgn(x + y)(1-t) + (2y + x/4)t)dy\\ |\\ 0 \\leqslant t \\leqslant 1\\ , & g_1 = g_2.\n",
      "    \\end{cases}\n",
      "$$"
     ]
    },
    {
     "cell_type": "markdown",
     "metadata": {},
     "source": [
      "<h5>\u0417\u0430\u0434\u0430\u0447\u0430 3."
     ]
    },
    {
     "cell_type": "markdown",
     "metadata": {},
     "source": [
      "$$ 9x + 8y \\rightarrow min$$\n",
      "$$ 9x^{2} - \\frac{xy}{4} + 8y^{2} \\leqslant 4$$"
     ]
    },
    {
     "cell_type": "markdown",
     "metadata": {},
     "source": [
      "\u0424\u0443\u043d\u043a\u0446\u0438\u044f \u041b\u0430\u0433\u0440\u0430\u043d\u0436\u0430 \u0438\u043c\u0435\u0435\u0442 \u0432\u0438\u0434:\n",
      "$$ L(x,y,\\lambda) = 9x + 8y + \\lambda(9x^{2} - \\frac{xy}{4} + 8y^{2} -4).$$"
     ]
    },
    {
     "cell_type": "markdown",
     "metadata": {},
     "source": [
      "\u0421\u043e\u0441\u0442\u0430\u0432\u0438\u043c \u0441\u0438\u0441\u0442\u0435\u043c\u0443, \u043f\u0440\u0438\u0440\u0430\u0432\u043d\u044f\u0432 \u043f\u0440\u043e\u0438\u0437\u0432\u043e\u0434\u043d\u044b\u0435 \u043a \u043d\u0443\u043b\u044e:\n",
      "$$ L'_{x} = 9 + 18\\lambda x -\\lambda y/4 = 0,$$\n",
      "$$ L'_{y} = 8 - x\\lambda/4 + 16y\\lambda = 0.$$"
     ]
    },
    {
     "cell_type": "markdown",
     "metadata": {},
     "source": [
      "\u041f\u043e\u043b\u0443\u0447\u0430\u0435\u043c:\n",
      "$$ y = \\frac{4(9+18x\\lambda)}{\\lambda} = \\frac{36}{\\lambda} + 72x,$$\n",
      "$$ x = -\\frac{64\\cdot 36 + 32}{\\lambda(16\\cdot 4\\cdot72 - 1)} = -\\frac{2336}{4607\\lambda} \\approx -\\frac{1}{2\\lambda}$$\n",
      "\n",
      "$$ y = \\frac{36}{\\lambda} - \\frac{72\\cdot 2336}{4607\\lambda} = -\\frac{2340}{4607\\lambda} \\approx -\\frac{1}{2\\lambda}.$$"
     ]
    },
    {
     "cell_type": "markdown",
     "metadata": {},
     "source": [
      "\u041e\u0442\u043a\u0443\u0434\u0430 $$ \\lambda = \\pm \\frac{\\sqrt{69}}{8}. $$\n",
      "$$ \\psi(\\pm \\frac{\\sqrt{69}}{2}) = \\mp \\sqrt{69}.$$\n",
      "\n",
      "$$x = y = \\frac{4}{\\sqrt{69}} - \\text{\u043c\u0438\u043d\u0438\u043c\u0443\u043c.}$$\n",
      "\n",
      "\u041e\u0442\u0432\u0435\u0442: $\\lambda = -\\frac{\\sqrt{69}}{8}$ \u0440\u0435\u0448\u0435\u043d\u0438\u0435 \u0434\u0432\u043e\u0439\u0441\u0442\u0432\u0435\u043d\u043d\u043e\u0439 \u0437\u0430\u0434\u0430\u0447\u0438, $x = y = \\frac{4}{\\sqrt{69}}$ \u0440\u0435\u0448\u0435\u043d\u0438\u0435 \u0438\u0441\u0445\u043e\u0434\u043d\u043e\u0439 \u0437\u0430\u0434\u0430\u0447\u0438."
     ]
    },
    {
     "cell_type": "markdown",
     "metadata": {},
     "source": [
      "<h5>\u0417\u0430\u0434\u0430\u0447\u0430 5.</h5>\n",
      "$$f(x_1,x_2) = 3x_1^2 - x_1x_2/8 + x_2^2 + x_2 \\longrightarrow \\min$$\n",
      "\n",
      "\u041d\u0430\u0447\u0430\u043b\u044c\u043d\u043e\u0435 \u043f\u0440\u0438\u0431\u043b\u0438\u0436\u0435\u043d\u0438\u0435: $(7,7).$\n"
     ]
    },
    {
     "cell_type": "markdown",
     "metadata": {},
     "source": [
      "\u0411\u0443\u0434\u0435\u043c \u043f\u043e\u043b\u044c\u0437\u043e\u0432\u0430\u0442\u044c\u0441\u044f:\n",
      "$$\\vec x_{k+1} = \\vec x_k - a_k\\cdot f'(\\vec x_k),$$"
     ]
    },
    {
     "cell_type": "markdown",
     "metadata": {},
     "source": [
      "\u0433\u0434\u0435 $a_k$ - \u0442\u043e\u0447\u043a\u0430 \u043c\u0438\u043d\u0438\u043c\u0443\u043c\u0430 $g(\\alpha) = f(\\vec x_k+\\alpha \\vec d_k)$"
     ]
    },
    {
     "cell_type": "markdown",
     "metadata": {},
     "source": [
      "$$grad f(x_1,x_2) = (6x_1 - x_2/8, -x_1/8 + 2x_2 + 1).$$ \n",
      "\n",
      "\u041d\u0430\u043f\u0438\u0448\u0435\u043c \u043d\u0435\u0441\u043a\u043e\u043b\u044c\u043a\u043e \u0444\u0443\u043d\u043a\u0446\u0438\u0439, \u0443\u043f\u0440\u043e\u0449\u044f\u044e\u0449\u0438\u0445 \u0432\u044b\u0447\u0438\u0441\u043b\u0435\u043d\u0438\u044f."
     ]
    },
    {
     "cell_type": "code",
     "collapsed": true,
     "input": [
      "def f(x_1,x_2):\n",
      "    return 3 * (x_1 ** 2 - x_1 * x_2 /8.0 + x_2 ** 2 + x_2"
     ],
     "language": "python",
     "metadata": {},
     "outputs": [],
     "prompt_number": null
    },
    {
     "cell_type": "code",
     "collapsed": true,
     "input": [
      "def g(x_1,x_2, d_1, d_2, alpha):\n",
      "    return f(x_1 + alpha*d_1, x_2 + alpha*d_2)"
     ],
     "language": "python",
     "metadata": {},
     "outputs": [],
     "prompt_number": 41
    },
    {
     "cell_type": "code",
     "collapsed": false,
     "input": [
      "def grad_f(x_1, x_2):\n",
      "    return np.array([6 * x_1 - x_2 / 8., -x_1 / 8. + 2 * x_2 + 1])"
     ],
     "language": "python",
     "metadata": {},
     "outputs": [],
     "prompt_number": 65
    },
    {
     "cell_type": "markdown",
     "metadata": {},
     "source": [
      "\u041f\u043e\u0441\u0447\u0438\u0442\u0430\u0435\u043c \u043d\u0430\u043f\u0440\u0430\u0432\u043b\u0435\u043d\u0438\u0435 \u0443\u0431\u044b\u0432\u0430\u043d\u0438\u044f \u0444\u0443\u043d\u043a\u0446\u0438\u0438."
     ]
    },
    {
     "cell_type": "code",
     "collapsed": false,
     "input": [
      "x_0 = np.array([7,7])\n",
      "decrease_direction = -grad_f(7, 7)\n",
      "print decrease_direction"
     ],
     "language": "python",
     "metadata": {},
     "outputs": [
      {
       "output_type": "stream",
       "stream": "stdout",
       "text": [
        "[-41.125 -14.125]\n"
       ]
      }
     ],
     "prompt_number": 75
    },
    {
     "cell_type": "markdown",
     "metadata": {},
     "source": [
      "\u041d\u0430\u0439\u0434\u0435\u043c \u043c\u0438\u043d\u0438\u043c\u0443\u043c \u0444\u0443\u043d\u043a\u0446\u0438\u0438 $g(\\alpha)$."
     ]
    },
    {
     "cell_type": "code",
     "collapsed": false,
     "input": [
      "alpha = np.linspace(-100,100,1000001)\n",
      "func_g = g(x_0[0], x_0[1], decrease_direction[0], decrease_direction[1], alpha)\n",
      "min_alpha_1 = min(zip(func_g,alpha))[1]\n",
      "min_alpha_1"
     ],
     "language": "python",
     "metadata": {},
     "outputs": [
      {
       "metadata": {},
       "output_type": "pyout",
       "prompt_number": 82,
       "text": [
        "0.18180000000000973"
       ]
      }
     ],
     "prompt_number": 82
    },
    {
     "cell_type": "code",
     "collapsed": false,
     "input": [
      "epsilon = 0.25\n",
      "alpha = np.linspace(min_alpha_1 - epsilon, min_alpha_1 + epsilon,1000001)\n",
      "func_g = g(x_0[0], x_0[1], decrease_direction[0], decrease_direction[1], alpha)\n",
      "min_alpha_2 = min(zip(func_g,alpha))[1]\n",
      "min_alpha_2"
     ],
     "language": "python",
     "metadata": {},
     "outputs": [
      {
       "metadata": {},
       "output_type": "pyout",
       "prompt_number": 83,
       "text": [
        "0.18178150000000973"
       ]
      }
     ],
     "prompt_number": 83
    },
    {
     "cell_type": "code",
     "collapsed": false,
     "input": [
      "def calculate_next_x_k(x, alpha):\n",
      "    return np.array(x - alpha*grad_f(x[0],x[1]))"
     ],
     "language": "python",
     "metadata": {},
     "outputs": [],
     "prompt_number": 78
    },
    {
     "cell_type": "markdown",
     "metadata": {},
     "source": [
      "\u041f\u043e\u0441\u0447\u0438\u0442\u0430\u0435\u043c \u0441\u043b\u0435\u0434\u0443\u044e\u0449\u0435\u0435 \u043f\u0440\u0438\u0431\u043b\u0438\u0436\u0435\u043d\u0438\u0435:"
     ]
    },
    {
     "cell_type": "code",
     "collapsed": false,
     "input": [
      "x_1 = calculate_next_x_k(x_0, min_alpha_2)"
     ],
     "language": "python",
     "metadata": {},
     "outputs": [],
     "prompt_number": 80
    },
    {
     "cell_type": "markdown",
     "metadata": {},
     "source": [
      "\u041e\u0442\u0432\u0435\u0442:"
     ]
    },
    {
     "cell_type": "code",
     "collapsed": false,
     "input": [
      "print x_1"
     ],
     "language": "python",
     "metadata": {},
     "outputs": [
      {
       "output_type": "stream",
       "stream": "stdout",
       "text": [
        "[-0.47576419  4.43233631]\n"
       ]
      }
     ],
     "prompt_number": 81
    },
    {
     "cell_type": "markdown",
     "metadata": {},
     "source": [
      "<h5>\u0417\u0430\u0434\u0430\u0447\u0430 6.</h5>"
     ]
    },
    {
     "cell_type": "markdown",
     "metadata": {},
     "source": [
      "$$ f(x_1, x_2) = 2x_1^2 - (x_1x_2)/3 + x_2^2 \\longrightarrow \\min,$$\n",
      "$$ \\vec x_0 = (0,9),$$\n",
      "$$ \\alpha_0 = \\hat \\alpha = 1,$$\n",
      "$$ \\varepsilon = \\theta =1/2$$"
     ]
    },
    {
     "cell_type": "markdown",
     "metadata": {},
     "source": [
      "\u041f\u043e\u043b\u044c\u0437\u0443\u0435\u043c\u0441\u044f $\\alpha_i = \\theta \\cdot \\alpha_{i-1},$ \u0435\u0441\u043b\u0438 \n",
      "$$ f(x_k - \\alpha d_k) < f(x_k) - \\varepsilon \\alpha \\langle f'(x_k), d_k \\rangle.$$"
     ]
    },
    {
     "cell_type": "code",
     "collapsed": true,
     "input": [
      "def f(x):\n",
      "    return 2*x[0] ** 2 - (x[0] * x[1])/3 + x[1] ** 2."
     ],
     "language": "python",
     "metadata": {},
     "outputs": [],
     "prompt_number": 149
    },
    {
     "cell_type": "code",
     "collapsed": false,
     "input": [
      "def grad_f(x):\n",
      "    return np.array([4*x[0] - x[1]/3.0, -x[0]/3.0 + 2*x[1]])"
     ],
     "language": "python",
     "metadata": {},
     "outputs": [],
     "prompt_number": 177
    },
    {
     "cell_type": "code",
     "collapsed": false,
     "input": [
      "x_0 = np.array([0,9])\n",
      "eps = 0.5\n",
      "theta = 0.5\n",
      "alpha_0 = 1\n",
      "decrease_direction_0 = -grad_f(x_0)\n",
      "decrease_direction_0"
     ],
     "language": "python",
     "metadata": {},
     "outputs": [
      {
       "metadata": {},
       "output_type": "pyout",
       "prompt_number": 178,
       "text": [
        "array([  3., -18.])"
       ]
      }
     ],
     "prompt_number": 178
    },
    {
     "cell_type": "code",
     "collapsed": false,
     "input": [
      "def armicho_rull(x, alpha, decrease_direction):\n",
      "    temp = int(np.matrix(grad_f(x)) * np.transpose(np.matrix(decrease_direction)))\n",
      "    return f(x - alpha * decrease_direction) < f(x) - eps * alpha * temp"
     ],
     "language": "python",
     "metadata": {},
     "outputs": [],
     "prompt_number": 179
    },
    {
     "cell_type": "markdown",
     "metadata": {},
     "source": [
      "\u041f\u0440\u043e\u0432\u0435\u0440\u0438\u043c \u0432\u044b\u043f\u043e\u043b\u043d\u0435\u043d\u0438\u0435 \u0443\u0441\u043b\u043e\u0432\u0438\u044f \u0410\u0440\u043c\u0438\u0445\u043e."
     ]
    },
    {
     "cell_type": "code",
     "collapsed": false,
     "input": [
      "armicho_rull(x_0, alpha_0, decrease_direction_0)"
     ],
     "language": "python",
     "metadata": {},
     "outputs": [
      {
       "metadata": {},
       "output_type": "pyout",
       "prompt_number": 180,
       "text": [
        "False"
       ]
      }
     ],
     "prompt_number": 180
    },
    {
     "cell_type": "markdown",
     "metadata": {},
     "source": [
      "\u041a\u0430\u043a \u0432\u0438\u0434\u043d\u043e, \u0443\u0441\u043b\u043e\u0432\u0438\u0435 \u0410\u0440\u043c\u0438\u0445\u043e \u043d\u0435 \u0432\u044b\u043f\u043e\u043b\u043d\u044f\u0435\u0442\u0441\u044f, \u043f\u043e\u044d\u0442\u043e\u043c\u0443 \u0430\u043b\u0433\u043e\u0440\u0438\u0442\u043c \u043f\u0440\u043e\u0434\u043e\u043b\u0436\u0430\u0435\u0442\u0441\u044f."
     ]
    },
    {
     "cell_type": "code",
     "collapsed": false,
     "input": [
      "alpha_1 = theta * alpha_0"
     ],
     "language": "python",
     "metadata": {},
     "outputs": [],
     "prompt_number": 181
    },
    {
     "cell_type": "code",
     "collapsed": true,
     "input": [
      "def calculate_next_x_k(x, decrease_direction, alpha):\n",
      "    return np.array(x + alpha*decrease_direction)"
     ],
     "language": "python",
     "metadata": {},
     "outputs": [],
     "prompt_number": 182
    },
    {
     "cell_type": "code",
     "collapsed": false,
     "input": [
      "x_1 = calculate_next_x_k(x_0, decrease_direction_0, alpha_0)\n",
      "x_1"
     ],
     "language": "python",
     "metadata": {},
     "outputs": [
      {
       "metadata": {},
       "output_type": "pyout",
       "prompt_number": 183,
       "text": [
        "array([ 3., -9.])"
       ]
      }
     ],
     "prompt_number": 183
    },
    {
     "cell_type": "code",
     "collapsed": true,
     "input": [
      "decrease_direction_1 = -grad_f(x_1)"
     ],
     "language": "python",
     "metadata": {},
     "outputs": [],
     "prompt_number": 184
    },
    {
     "cell_type": "code",
     "collapsed": false,
     "input": [
      "armicho_rull(x_1, alpha_1, decrease_direction_1)"
     ],
     "language": "python",
     "metadata": {},
     "outputs": [
      {
       "metadata": {},
       "output_type": "pyout",
       "prompt_number": 185,
       "text": [
        "False"
       ]
      }
     ],
     "prompt_number": 185
    },
    {
     "cell_type": "markdown",
     "metadata": {},
     "source": [
      "\u0423\u0441\u043b\u043e\u0432\u0438\u0435 \u0441\u043d\u043e\u0432\u0430 \u043d\u0435 \u0432\u044b\u043f\u043e\u043b\u043d\u044f\u0435\u0442\u0441\u044f."
     ]
    },
    {
     "cell_type": "code",
     "collapsed": true,
     "input": [
      "alpha_2 = theta * alpha_1"
     ],
     "language": "python",
     "metadata": {},
     "outputs": [],
     "prompt_number": 186
    },
    {
     "cell_type": "code",
     "collapsed": true,
     "input": [
      "x_2 = calculate_next_x_k(x_1, decrease_direction_1, alpha_1)\n",
      "decrease_direction_2 = -grad_f(x_2)"
     ],
     "language": "python",
     "metadata": {},
     "outputs": [],
     "prompt_number": 188
    },
    {
     "cell_type": "code",
     "collapsed": false,
     "input": [
      "armicho_rull(x_2, alpha_2, decrease_direction_2)"
     ],
     "language": "python",
     "metadata": {},
     "outputs": [
      {
       "metadata": {},
       "output_type": "pyout",
       "prompt_number": 190,
       "text": [
        "False"
       ]
      }
     ],
     "prompt_number": 190
    },
    {
     "cell_type": "markdown",
     "metadata": {},
     "source": [
      "\u0412\u0442\u043e\u0440\u0430\u044f \u0438\u0442\u0435\u0440\u0430\u0446\u0438\u044f \u0437\u0430\u043a\u043e\u043d\u0447\u0435\u043d\u0430."
     ]
    },
    {
     "cell_type": "markdown",
     "metadata": {},
     "source": [
      "<h5>\u0417\u0430\u0434\u0430\u0447\u0430 7.</h5>"
     ]
    },
    {
     "cell_type": "markdown",
     "metadata": {},
     "source": [
      "$$ \\sin(x_1) + \\cos(x_2/7) + \\sin(x_1/9)\\sin(x_2/8) \\longrightarrow \\min$$\n",
      "\n",
      "$$\\text{\u041d\u0430\u0447\u0430\u043b\u044c\u043d\u043e\u0435 \u043f\u0440\u0438\u0431\u043b\u0438\u0436\u0435\u043d\u0438\u0435:} (\\pi/9, \\pi/9).$$"
     ]
    },
    {
     "cell_type": "code",
     "collapsed": false,
     "input": [
      "math.sin(1)"
     ],
     "language": "python",
     "metadata": {},
     "outputs": [
      {
       "metadata": {},
       "output_type": "pyout",
       "prompt_number": 235,
       "text": [
        "0.8414709848078965"
       ]
      }
     ],
     "prompt_number": 235
    },
    {
     "cell_type": "markdown",
     "metadata": {},
     "source": [
      "\u041c\u0435\u0442\u043e\u0434 \u041d\u044c\u044e\u0442\u043e\u043d\u0430 \u0434\u043b\u044f \u0444\u0443\u043d\u043a\u0446\u0438\u0439 \u043c\u043d\u043e\u0433\u0438\u0445 \u043f\u0435\u0440\u0435\u043c\u0435\u043d\u043d\u044b\u0445: $x_{i+1} = x_i - (f''(x_i))^{-1}f'(x_i)$. "
     ]
    },
    {
     "cell_type": "code",
     "collapsed": false,
     "input": [
      "def f(x):\n",
      "    return math.sin(x[0]) + math.cos(x[1]/7.) + math.sin(x[1]/9.)*math.sin(x[1]/8.)"
     ],
     "language": "python",
     "metadata": {},
     "outputs": [],
     "prompt_number": 215
    },
    {
     "cell_type": "code",
     "collapsed": false,
     "input": [
      "def grad_f(x):\n",
      "    return np.array([math.cos(x[0]) + (1/9.) * math.cos(x[0]/9.) * math.sin(x[1]/8.),\\\n",
      "                    (-1/7.) * math.sin(x[1]/7.) + (1/8.) * math.cos(x[1]/8.) * math.sin(x[0]/9.)])\n"
     ],
     "language": "python",
     "metadata": {},
     "outputs": [],
     "prompt_number": 289
    },
    {
     "cell_type": "code",
     "collapsed": false,
     "input": [
      "def double_grad_f(x):\n",
      "    return np.matrix([[(- 1) * math.sin(x[0]) - (1/81.) * math.sin(x[0]/9.) * math.sin(x[1]/8.), \n",
      "                       (1/72.) * math.cos(x[0]/9.) * math.sin(x[1]/8.)],\n",
      "                      [-(1/49.) * math.cos(x[1]/7.) - (1/64.) * math.sin(x[1]/8.) * math.sin(x[0]/9.),\n",
      "                       (1/72.) * math.cos(x[0]/9.) * math.sin(x[1]/8.)]])"
     ],
     "language": "python",
     "metadata": {},
     "outputs": [],
     "prompt_number": 308
    },
    {
     "cell_type": "code",
     "collapsed": false,
     "input": [
      "x_1 = np.transpose(np.matrix(x_0)) - np.matrix(double_grad_f(x_0) ** (-1) * np.transpose(np.matrix(grad_f(x_0))))"
     ],
     "language": "python",
     "metadata": {},
     "outputs": [],
     "prompt_number": 351
    },
    {
     "cell_type": "code",
     "collapsed": false,
     "input": [
      "x_1 = np.transpose(x_1)\n",
      "x_1"
     ],
     "language": "python",
     "metadata": {},
     "outputs": [
      {
       "metadata": {},
       "output_type": "pyout",
       "prompt_number": 375,
       "text": [
        "array([   3.29284846,  103.35867249])"
       ]
      }
     ],
     "prompt_number": 375
    },
    {
     "cell_type": "code",
     "collapsed": false,
     "input": [
      "x_2 = np.transpose(np.matrix(x_1)) - np.matrix(double_grad_f(x_1) ** (-1) * np.transpose(np.matrix(grad_f(x_1))))"
     ],
     "language": "python",
     "metadata": {},
     "outputs": [],
     "prompt_number": 385
    },
    {
     "cell_type": "code",
     "collapsed": false,
     "input": [
      "x_2 = (np.transpose(x_2))\n",
      "x_2"
     ],
     "language": "python",
     "metadata": {},
     "outputs": [
      {
       "metadata": {},
       "output_type": "pyout",
       "prompt_number": 386,
       "text": [
        "matrix([[   9.61289495,  105.59215593]])"
       ]
      }
     ],
     "prompt_number": 386
    },
    {
     "cell_type": "markdown",
     "metadata": {},
     "source": [
      "\u0412\u0442\u043e\u0440\u0430\u044f \u0438\u0442\u0435\u0440\u0430\u0446\u0438\u044f \u0437\u0430\u043a\u043e\u043d\u0447\u0435\u043d\u0430."
     ]
    },
    {
     "cell_type": "markdown",
     "metadata": {},
     "source": [
      "<h5>\u0417\u0430\u0434\u0430\u0447\u0430 8.</h5>"
     ]
    },
    {
     "cell_type": "markdown",
     "metadata": {},
     "source": [
      "$$ 7x_1^2 - \\frac{x_1\\cdot x_2}{6} + 2x_2^2 \\longrightarrow \\min$$\n",
      "$$ 4x_1 + 2x_2 = 1$$\n",
      "$$ x_0 = (0, 1/4)$$\n",
      "\n",
      "\u0421\u0432\u0435\u0434\u0435\u043c \u0437\u0430\u0434\u0430\u0447\u0443 \u043a \u0441\u0442\u0430\u043d\u0434\u0430\u0440\u0442\u043d\u043e\u0439 : \n",
      "$$f(x) = \\frac{1}{2}(Qx,x)$$\n",
      "$$ Ax = b$$\n",
      "\n",
      "\u041f\u043e\u0441\u0447\u0438\u0442\u0430\u0435\u043c \u043e\u043f\u0435\u0440\u0430\u0442\u043e\u0440 \u043f\u0440\u043e\u0435\u043a\u0442\u0438\u0440\u043e\u0432\u0430\u043d\u0438\u044f \u043f\u043e \u0444\u043e\u0440\u043c\u0443\u043b\u0435 : $P = E - A^T(A \\cdot A^T)^{-1}A.$"
     ]
    },
    {
     "cell_type": "code",
     "collapsed": false,
     "input": [
      "A = np.matrix([[4,2]])\n",
      "b = 1\n",
      "Q = np.matrix([[14, -1/6.],[-1/6., 4]])\n",
      "P = np.transpose(A) * (A * np.transpose(A)) ** (-1) * A\n",
      "E = np.matrix([[1,0],[0,1]])\n",
      "P = E - P\n",
      "P"
     ],
     "language": "python",
     "metadata": {},
     "outputs": [
      {
       "metadata": {},
       "output_type": "pyout",
       "prompt_number": 404,
       "text": [
        "matrix([[ 0.2, -0.4],\n",
        "        [-0.4,  0.8]])"
       ]
      }
     ],
     "prompt_number": 404
    },
    {
     "cell_type": "code",
     "collapsed": false,
     "input": [
      "x_0 = np.array([0, 1/4.])\n",
      "step_1 = grad_f(x_0)\n",
      "step_1"
     ],
     "language": "python",
     "metadata": {},
     "outputs": [
      {
       "metadata": {},
       "output_type": "pyout",
       "prompt_number": 396,
       "text": [
        "array([-0.04166667,  1.        ])"
       ]
      }
     ],
     "prompt_number": 396
    },
    {
     "cell_type": "markdown",
     "metadata": {},
     "source": [
      "\u041d\u0430\u0439\u0434\u0435\u043c $y$ \u0438\u0437 \u0440\u0430\u0432\u0435\u043d\u0441\u0442\u0432\u0430: $P\\cdot Q\\cdot P\\cdot y = -P \\cdot Q \\cdot x_0.$"
     ]
    },
    {
     "cell_type": "code",
     "collapsed": true,
     "input": [
      "A = P* Q * P"
     ],
     "language": "python",
     "metadata": {},
     "outputs": [],
     "prompt_number": 405
    },
    {
     "cell_type": "code",
     "collapsed": false,
     "input": [
      "B = - P * Q * np.transpose(np.matrix(x_0))"
     ],
     "language": "python",
     "metadata": {},
     "outputs": [],
     "prompt_number": 410
    },
    {
     "cell_type": "code",
     "collapsed": false,
     "input": [
      "B"
     ],
     "language": "python",
     "metadata": {},
     "outputs": [
      {
       "metadata": {},
       "output_type": "pyout",
       "prompt_number": 411,
       "text": [
        "matrix([[ 0.40833333],\n",
        "        [-0.81666667]])"
       ]
      }
     ],
     "prompt_number": 411
    },
    {
     "cell_type": "code",
     "collapsed": false,
     "input": [
      "y = A ** (-1) * B\n",
      "y"
     ],
     "language": "python",
     "metadata": {},
     "outputs": [
      {
       "metadata": {},
       "output_type": "pyout",
       "prompt_number": 414,
       "text": [
        "matrix([[ 0.25  ],\n",
        "        [-0.0625]])"
       ]
      }
     ],
     "prompt_number": 414
    },
    {
     "cell_type": "code",
     "collapsed": true,
     "input": [
      "x_new = np.transpose(np.matrix(x_0)) + P * y"
     ],
     "language": "python",
     "metadata": {},
     "outputs": [],
     "prompt_number": 417
    },
    {
     "cell_type": "code",
     "collapsed": false,
     "input": [
      "x_new"
     ],
     "language": "python",
     "metadata": {},
     "outputs": [
      {
       "metadata": {},
       "output_type": "pyout",
       "prompt_number": 418,
       "text": [
        "matrix([[ 0.075],\n",
        "        [ 0.1  ]])"
       ]
      }
     ],
     "prompt_number": 418
    },
    {
     "cell_type": "markdown",
     "metadata": {},
     "source": [
      "\u041e\u0442\u0432\u0435\u0442: $(0.075, 0.1).$"
     ]
    },
    {
     "cell_type": "markdown",
     "metadata": {},
     "source": [
      "<h5>\u0417\u0430\u0434\u0430\u0447\u0430 9.</h5>"
     ]
    },
    {
     "cell_type": "markdown",
     "metadata": {},
     "source": [
      "$$x_1^2 - \\frac{x_1\\cdot x_2}{3} + 5x_2^2 + 4x_2 \\longrightarrow \\min$$\n",
      "$$ 4x_1 + 8x_2 = 6.$$"
     ]
    },
    {
     "cell_type": "markdown",
     "metadata": {},
     "source": [
      "\u0417\u0430\u043c\u0435\u0442\u0438\u043c, \u0447\u0442\u043e $f$ \u043f\u0440\u0430\u043a\u0442\u0438\u0447\u0435\u0441\u043a\u0438 \u043a\u0432\u0430\u0434\u0440\u0430\u0442\u0438\u0447\u043d\u0430\u044f \u0444\u043e\u0440\u043c\u0430, \u043f\u043e\u044d\u0442\u043e\u043c\u0443 \u0432\u043e\u0437\u044c\u043c\u0435\u043c \u043a\u0432\u0430\u0434\u0440\u0430\u0442\u0438\u0447\u043d\u0443\u044e \u0448\u0442\u0440\u0430\u0444-\u0444\u0443\u043d\u043a\u0446\u0438\u044e: $P(x) = (4x_1 + 8x_2 - 6)^2$, \u0442\u043e\u0433\u0434\u0430 \u0438\u0441\u0445\u043e\u0434\u043d\u0430\u044f \u0437\u0430\u0434\u0430\u0447\u0430 \u0441\u0432\u043e\u0434\u0438\u0442\u0441\u044f \u043a \u0437\u0430\u0434\u0430\u0447\u0435 \u043c\u0438\u043d\u0438\u043c\u0438\u0437\u0430\u0446\u0438\u0438 \u0444\u0443\u043d\u043a\u0446\u0438\u0438 $g_r(x_1 x_2) = x_1^2 - (x_1x_2)/3 + 5x_2^2 + 4x_2 + r(4x_1 + 8x_2 - 6)^2$."
     ]
    },
    {
     "cell_type": "markdown",
     "metadata": {
      "collapsed": true
     },
     "source": [
      "\u0420\u0435\u0448\u0430\u0435\u043c \u0441\u0438\u0441\u0442\u0435\u043c\u0443 \u043e\u0442\u043d\u043e\u0441\u0438\u0442\u0435\u043b\u044c\u043d\u043e $r$:\n",
      "$$ g'_{x_1} = 2x_1 - x_2/3 + 2r\\cdot 4(4x_1 + 8x_2 - 6) = 0,$$\n",
      "$$ g'_{x_2} = -x_1/3 + 10x_2 + 4 + 2r\\cdot 8(4x_1 + 8x_2 - 6) = 0.$$"
     ]
    },
    {
     "cell_type": "markdown",
     "metadata": {
      "collapsed": true
     },
     "source": [
      "$$x_1 = \\frac{x_2/3 - 8r(8x_2 - 6)}{2(1+16r)}$$"
     ]
    },
    {
     "cell_type": "markdown",
     "metadata": {
      "collapsed": true
     },
     "source": [
      "$$ -\\frac{x_2/3 - 8r(8x_2 - 6)}{3 \\cdot 2(1+16r)} + 10x_2 + 4 + 2r\\cdot 8\\cdot \\left( \\frac{4(x_2/3 - 8r(8x_2 - 6))}{2(1+16r)}  + 8x_2 - 6\\right) = 0$$"
     ]
    },
    {
     "cell_type": "markdown",
     "metadata": {},
     "source": [
      "$$-x_2/3 + 8r(8x_2 - 6) + 12(5x_2 + 2)(1 + 16r) + 16r(12(x_2/3 - 8r(8x_2 - 6)) + 3(8x_2 - 6)) = 0$$"
     ]
    },
    {
     "cell_type": "markdown",
     "metadata": {},
     "source": [
      "$$-x_2/3 + 64rx_2 - 48r + 60(1 + 16r)x_2 + 24(1 + 16r) + 16r(4x_2 - 12\\cdot8r(8x_2 - 6)) + 16\\cdot 3r(8x_2 - 6) = 0$$"
     ]
    },
    {
     "cell_type": "markdown",
     "metadata": {},
     "source": [
      "$$x_2(-1/3 + 64r + 12\\cdot5(1 + 16r) + 24\\cdot16r + 16r\\cdot 4 - 16\\cdot 12\\cdot 64 \\cdot r^2 + 24\\cdot 16r) + -48r + 24(1+16r) + 16\\cdot 48 \\cdot 12 \\cdot r^2 - 48\\cdot r\\cdot 6= 0$$"
     ]
    },
    {
     "cell_type": "markdown",
     "metadata": {},
     "source": [
      "$$ x_2 = \\frac{- 9216r^2 -48r - 24}{12288r^2 + 1856r + 59.6} = f_2(r) $$"
     ]
    },
    {
     "cell_type": "markdown",
     "metadata": {},
     "source": [
      "$$x_1 = \\frac{ \\frac{- 9216r^2 -48r - 24}{3\\cdot(12288r^2 + 1856r + 59.6)} - 8r(8\\frac{- 9216r^2 -48r - 24}{12288r^2 + 1856r + 59.6} - 6)}{2(1+16r)} = f_1(r)$$"
     ]
    },
    {
     "cell_type": "code",
     "collapsed": false,
     "input": [
      "-9216/12288."
     ],
     "language": "python",
     "metadata": {},
     "outputs": [
      {
       "metadata": {},
       "output_type": "pyout",
       "prompt_number": 24,
       "text": [
        "-0.75"
       ]
      }
     ],
     "prompt_number": 24
    },
    {
     "cell_type": "markdown",
     "metadata": {
      "collapsed": true
     },
     "source": [
      "$$ x^*_2 = \\lim_{r \\rightarrow \\infty}f_2(r) = \\frac{-9216}{12288} = -0.75$$"
     ]
    },
    {
     "cell_type": "markdown",
     "metadata": {},
     "source": [
      "$$ x_1^* = \\lim_{r \\rightarrow \\infty} f_1(r) = 3.$$"
     ]
    },
    {
     "cell_type": "markdown",
     "metadata": {},
     "source": [
      "\u041e\u0442\u0432\u0435\u0442: $x^*_1 = 0.75, x_2^* = 3.$"
     ]
    },
    {
     "cell_type": "markdown",
     "metadata": {},
     "source": [
      "<h5>\u0417\u0430\u0434\u0430\u0447\u0430 10.</h5>"
     ]
    },
    {
     "cell_type": "markdown",
     "metadata": {},
     "source": [
      "$$f(x_1, x_2) = 9x_1^2 - 2x_1x_2 + 6x_2^2 + 9x_1 \\longrightarrow \\min $$\n",
      "$$ 7x_1 + 2x_2 \\leqslant 9$$"
     ]
    },
    {
     "cell_type": "markdown",
     "metadata": {},
     "source": [
      "\u0412\u043e\u0437\u044c\u043c\u0435\u043c $P(x)= \\max^2(7x_1 + 2x_2 - 9, 0),$ \u0442\u043e\u0433\u0434\u0430 \u0438\u0441\u0445\u043e\u0434\u043d\u0430\u044f \u0437\u0430\u0434\u0430\u0447\u0430 \u0441\u0432\u043e\u0434\u0438\u0442\u0441\u044f \u043a \u043c\u0438\u043d\u0438\u043c\u0438\u0437\u0430\u0446\u0438\u0438 \u0444\u0443\u043d\u043a\u0446\u0438\u0438\n",
      "$$ g_r(x_1, x_2) = 9x_1^2 - 2x_1x_2 + 6x_2^2 + 9x_1 + r (\\max(7x_1 + 2x_2 - 9, 0))^{2}.$$\n",
      "\n",
      "\u0420\u0430\u0441\u0441\u043c\u043e\u0442\u0440\u0438\u043c \u0432\u043e\u0437\u043c\u043e\u0436\u043d\u044b\u0435 \u0441\u043b\u0443\u0447\u0430\u0438:\n",
      "\n",
      "1) $7x_1 + 2x_2 - 9 \\geqslant 0.$\n",
      "$$ g(x_1,x_2) = 9x_1^2 - 2x_1x_2 + 6x_2^2 + 9x_1 + r(7x_1 + 2x_2)^2 - 18r(7x_1 + 2x_2) + 81r.$$"
     ]
    },
    {
     "cell_type": "markdown",
     "metadata": {},
     "source": [
      "$$g'_{x_1} = 18x_1 - 2x_2 + 9 + 2r(7x_1 + 2x_2)\\cdot 7 - 18r\\cdot 7 = 0,$$\n",
      "$$ g'_{x_2} = -2x_1 + 12x_2 + 2r(7x_1 + 2x_2)\\cdot 2 - 2\\cdot 18r = 0.$$"
     ]
    },
    {
     "cell_type": "markdown",
     "metadata": {},
     "source": [
      "\u041e\u0442\u043a\u0443\u0434\u0430 \u043f\u043e\u043b\u0443\u0447\u0430\u0435\u043c:\n",
      "$$ (4r-2)x_2 = -18x_1 - 9 - 14rx_1 +  126r$$\n",
      "$$ x_2 = \\frac{-18x_1 - 9 - 14rx_1 +  126r}{(4r-2)}.$$\n",
      "\u041f\u043e\u0434\u0441\u0442\u0430\u0432\u043b\u044f\u044f \u0432\u043e \u0432\u0442\u043e\u0440\u043e\u0435 \u0440\u0430\u0432\u0435\u043d\u0441\u0442\u0432\u043e \u0434\u043b\u044f \u043f\u0440\u043e\u0438\u0437\u0432\u043e\u0434\u043d\u044b\u0445, \u043f\u043e\u043b\u0443\u0447\u0430\u0435\u043c:"
     ]
    },
    {
     "cell_type": "markdown",
     "metadata": {},
     "source": [
      "$$-2x_1 + 6\\frac{-18x_1 - 9 - 14rx_1 +  126r}{(2r-1)} + 2r(14x_1 + 2\\frac{-18x_1 - 9 - 14rx_1 +  126r}{(2r-1)}) - 2\\cdot 18r = 0,$$"
     ]
    },
    {
     "cell_type": "markdown",
     "metadata": {},
     "source": [
      "$$-2x_1(2r - 1) + 6(-18x_1 - 9 - 14rx_1 +  126r) + 14rx_1(4r-2) + 4r(-18x_1 - 9 - 14rx_1 +  126r) - 36(2r-1)r = 0,$$"
     ]
    },
    {
     "cell_type": "markdown",
     "metadata": {},
     "source": [
      "$$ x_1(2 - 4r - 6\\cdot (18 + 14r) + 28r(2r-1) + 4r(-18 - 14r)) + 6(126r - 9) + 4r(-9 + 126r) -36(2r-1) = 0,$$\n",
      "$$ x_1 = -\\frac{6(126r - 9) + 4r(-9 + 126r) -36(2r-1)}{2 - 4r - 6\\cdot (18 + 14r) + 28r(2r-1) + 4r(-18 - 14r)} = f_1(r).$$\n",
      "\n",
      "\u0418 \u0442\u043e\u0433\u0434\u0430 $x_1^* = \\lim_{r \\rightarrow \\infty} f_1(r) = -9 $."
     ]
    },
    {
     "cell_type": "code",
     "collapsed": false,
     "input": [
      "4*126/56."
     ],
     "language": "python",
     "metadata": {},
     "outputs": [
      {
       "metadata": {},
       "output_type": "pyout",
       "prompt_number": 38,
       "text": [
        "9.0"
       ]
      }
     ],
     "prompt_number": 38
    },
    {
     "cell_type": "code",
     "collapsed": false,
     "input": [
      "9*14/4"
     ],
     "language": "python",
     "metadata": {},
     "outputs": [
      {
       "metadata": {},
       "output_type": "pyout",
       "prompt_number": 39,
       "text": [
        "31"
       ]
      }
     ],
     "prompt_number": 39
    },
    {
     "cell_type": "markdown",
     "metadata": {},
     "source": [
      "$x_2^* = \\lim_{r \\rightarrow \\infty} f_2(r) = 31$"
     ]
    },
    {
     "cell_type": "code",
     "collapsed": true,
     "input": [
      "def f(x):\n",
      "    return 9 * x[0] ** 2 - 2 * x[0] * x[1] + 6 * x[1] ** 2 + 9 * x[0]"
     ],
     "language": "python",
     "metadata": {},
     "outputs": [],
     "prompt_number": 33
    },
    {
     "cell_type": "markdown",
     "metadata": {},
     "source": [
      "\u041f\u043e\u0441\u0447\u0438\u0442\u0430\u0435\u043c \u0437\u043d\u0430\u0447\u0435\u043d\u0438\u0435 \u0444\u0443\u043d\u043a\u0446\u0438\u0438 \u0432 \u043d\u0430\u0439\u0434\u0435\u043d\u043d\u044b\u0445 \u0442\u043e\u0447\u043a\u0430\u0445."
     ]
    },
    {
     "cell_type": "code",
     "collapsed": true,
     "input": [
      "x_1 = np.array([-9, 31])"
     ],
     "language": "python",
     "metadata": {},
     "outputs": [],
     "prompt_number": 47
    },
    {
     "cell_type": "code",
     "collapsed": false,
     "input": [
      "f(x_1)"
     ],
     "language": "python",
     "metadata": {},
     "outputs": [
      {
       "metadata": {},
       "output_type": "pyout",
       "prompt_number": 48,
       "text": [
        "6972"
       ]
      }
     ],
     "prompt_number": 48
    },
    {
     "cell_type": "markdown",
     "metadata": {},
     "source": [
      "2) $7x_1 + 2x_2 - 9 \\geqslant 0$\n",
      "$ g(x_1,x_2) = 9x_1^2 - 2x_1x_2 + 6x_2^2 + 9x_1. $\n",
      "\n",
      "$$g'_{x_1} = 18x_1 - 2x_2 + 9 = 0,$$\n",
      "$$ g'_{x_2} = -2x_1 + 12x_2 = 0.$$\n",
      "\n",
      "$$x_1 = 6x_2$$\n",
      "$$18\\cdot6x_2 - 2x_2 + 9 = 0$$\n",
      "$$x_2 = -\\frac{9}{106}, x_1 = -\\frac{27}{53}.$$"
     ]
    },
    {
     "cell_type": "code",
     "collapsed": false,
     "input": [
      "-9/106."
     ],
     "language": "python",
     "metadata": {},
     "outputs": [
      {
       "metadata": {},
       "output_type": "pyout",
       "prompt_number": 42,
       "text": [
        "-0.08490566037735849"
       ]
      }
     ],
     "prompt_number": 42
    },
    {
     "cell_type": "code",
     "collapsed": false,
     "input": [
      "-27/53."
     ],
     "language": "python",
     "metadata": {},
     "outputs": [
      {
       "metadata": {},
       "output_type": "pyout",
       "prompt_number": 43,
       "text": [
        "-0.5094339622641509"
       ]
      }
     ],
     "prompt_number": 43
    },
    {
     "cell_type": "code",
     "collapsed": false,
     "input": [
      "x_2 = np.array([-0.50943,-0.08490])\n",
      "f(x_2)"
     ],
     "language": "python",
     "metadata": {},
     "outputs": [
      {
       "metadata": {},
       "output_type": "pyout",
       "prompt_number": 45,
       "text": [
        "-2.2924528299000002"
       ]
      }
     ],
     "prompt_number": 45
    },
    {
     "cell_type": "markdown",
     "metadata": {},
     "source": [
      "\u041e\u0442\u0432\u0435\u0442: $f(x_2) < f(x_1),$ \u0437\u043d\u0430\u0447\u0438\u0442 \u0442\u043e\u0447\u043a\u0430 $(-0.51, -0.08)$ \u044f\u0432\u043b\u044f\u0435\u0442\u0441\u044f \u043c\u0438\u043d\u0438\u043c\u0443\u043c\u043e\u043c f \u043f\u0440\u0438 \u0437\u0430\u0434\u0430\u043d\u043d\u044b\u0445 \u0443\u0441\u043b\u043e\u0432\u0438\u044f\u0445."
     ]
    },
    {
     "cell_type": "markdown",
     "metadata": {},
     "source": [
      "<h5>\u0417\u0430\u0434\u0430\u0447\u0430 11.</h5>"
     ]
    },
    {
     "cell_type": "code",
     "collapsed": false,
     "input": [
      "import matplotlib.pyplot as plt\n",
      "game = pd.read_csv(\"game_1.csv\")\n",
      "game"
     ],
     "language": "python",
     "metadata": {
      "scrolled": true
     },
     "outputs": [
      {
       "html": [
        "<div style=\"max-height:1000px;max-width:1500px;overflow:auto;\">\n",
        "<table border=\"1\" class=\"dataframe\">\n",
        "  <thead>\n",
        "    <tr style=\"text-align: right;\">\n",
        "      <th></th>\n",
        "      <th>First\\Second</th>\n",
        "      <th>L</th>\n",
        "      <th>C</th>\n",
        "      <th>R</th>\n",
        "      <th>RR</th>\n",
        "    </tr>\n",
        "  </thead>\n",
        "  <tbody>\n",
        "    <tr>\n",
        "      <th>0</th>\n",
        "      <td> U</td>\n",
        "      <td> 1</td>\n",
        "      <td> 5</td>\n",
        "      <td> 0</td>\n",
        "      <td>-2</td>\n",
        "    </tr>\n",
        "    <tr>\n",
        "      <th>1</th>\n",
        "      <td> D</td>\n",
        "      <td>-2</td>\n",
        "      <td> 3</td>\n",
        "      <td> 7</td>\n",
        "      <td> 9</td>\n",
        "    </tr>\n",
        "  </tbody>\n",
        "</table>\n",
        "</div>"
       ],
       "metadata": {},
       "output_type": "pyout",
       "prompt_number": 3,
       "text": [
        "  First\\Second  L  C  R  RR\n",
        "0            U  1  5  0  -2\n",
        "1            D -2  3  7   9"
       ]
      }
     ],
     "prompt_number": 3
    },
    {
     "cell_type": "markdown",
     "metadata": {},
     "source": [
      "\u0414\u0430\u043d\u043d\u044b\u0435 \u043f\u043e\u0434\u043e\u0431\u0440\u0430\u043d\u044b \u0442\u0430\u043a, \u0447\u0442\u043e\u0431\u044b \u043d\u0435 \u0431\u044b\u043b\u043e \u0434\u043e\u043c\u0438\u043d\u0438\u0440\u0443\u044e\u0449\u0438\u0445 \u0441\u0442\u0440\u0430\u0442\u0435\u0433\u0438\u0439."
     ]
    },
    {
     "cell_type": "code",
     "collapsed": false,
     "input": [
      "p = np.linspace(0, 1, 3)\n",
      "l_1 = p - 2 * (1 - p)\n",
      "l_2 = 5 * p + 3 * (1 - p)\n",
      "l_3 = 7 * (1 - p)\n",
      "l_4 = -2 * p + 9 * (1 - p)"
     ],
     "language": "python",
     "metadata": {},
     "outputs": [],
     "prompt_number": 4
    },
    {
     "cell_type": "code",
     "collapsed": false,
     "input": [
      "plt.figure(figsize=(18, 6))\n",
      "plt.plot(p, l_1, '-', c='red')\n",
      "plt.plot(p, l_2, '-', c='blue')\n",
      "plt.plot(p, l_3, '-', c='black')\n",
      "plt.plot(p, l_4, '-', c='green')\n",
      "x_peresechenie = 0.784\n",
      "y_peresechenie = x_peresechenie - 2 * (1 - x_peresechenie)\n",
      "plt.plot(x_peresechenie, y_peresechenie, 'o', c='black')\n",
      "plt.show()"
     ],
     "language": "python",
     "metadata": {},
     "outputs": [
      {
       "metadata": {},
       "output_type": "display_data",
       "png": "[encoded data removed]",
       "text": [
        "<matplotlib.figure.Figure at 0x7f5a130723d0>"
       ]
      }
     ],
     "prompt_number": 6
    },
    {
     "cell_type": "markdown",
     "metadata": {},
     "source": [
      "\u0412 \u0442\u043e\u0447\u043a\u0435 $A$ \u0434\u043e\u0441\u0442\u0438\u0433\u0430\u0435\u0442\u0441\u044f \u043c\u0430\u043a\u0441\u0438\u043c\u0443\u043c \u043d\u0438\u0436\u043d\u0435\u0439 \u043e\u0433\u0438\u0431\u0430\u044e\u0449\u0435\u0439. \u0415\u0435 \u043a\u043e\u043e\u0440\u0434\u0438\u043d\u0430\u0442\u044b \u043d\u0430\u0445\u043e\u0434\u0438\u043c \u0438\u0437 \u0443\u0440\u0430\u0432\u043d\u0435\u043d\u0438\u044f: $3 \\cdot p - 2 = -11 \\cdot p + 9,$ \u043e\u0442\u043a\u0443\u0434\u0430 $p = \\frac{11}{14}$, \u0441\u043c\u0435\u0448\u0430\u043d\u043d\u0430\u044f \u0441\u0442\u0440\u0430\u0442\u0435\u0433\u0438\u044f \u043f\u0435\u0440\u0432\u043e\u0433\u043e: $(11/14, 3/14).$ "
     ]
    },
    {
     "cell_type": "markdown",
     "metadata": {},
     "source": [
      "\u0414\u043b\u044f \u0432\u0442\u043e\u0440\u043e\u0433\u043e \u0438\u0433\u0440\u043e\u043a\u0430 \u0441\u043c\u0435\u0448\u0430\u043d\u043d\u0430\u044f \u0441\u0442\u0440\u0430\u0442\u0435\u0433\u0438\u044f:\n",
      "$$3q - 11(1-q) = 0,$$\n",
      "$$q = \\frac{11}{14}.$$"
     ]
    },
    {
     "cell_type": "markdown",
     "metadata": {
      "collapsed": true
     },
     "source": [
      "\u0418\u0442\u0430\u043a, $(11/14, 3/14)$ - \u0441\u043c\u0435\u0448\u0430\u043d\u043d\u0430\u044f \u0441\u0442\u0440\u0430\u0442\u0435\u0433\u0438\u044f \u043f\u0435\u0440\u0432\u043e\u0433\u043e, $(11/14, 0, 0, 3/14)$ - \u0441\u043c\u0435\u0448\u0430\u043d\u043d\u0430\u044f \u0441\u0442\u0440\u0430\u0442\u0435\u0433\u0438\u044f \u0432\u0442\u043e\u0440\u043e\u0433\u043e.\n",
      "\u0420\u0435\u0448\u0435\u043d\u0438\u0435 \u0438\u0433\u0440\u044b: $u = 3/14,$ \u043e\u043d\u043e \u0436\u0435 \u0441\u0435\u0434\u043b\u043e\u0432\u0430\u044f \u0442\u043e\u0447\u043a\u0430."
     ]
    }
   ],
   "metadata": {}
  }
 ]
}
